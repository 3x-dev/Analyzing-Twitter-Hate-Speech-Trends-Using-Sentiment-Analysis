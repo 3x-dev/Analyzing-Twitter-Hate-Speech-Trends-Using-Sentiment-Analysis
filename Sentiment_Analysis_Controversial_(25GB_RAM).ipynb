{
  "nbformat": 4,
  "nbformat_minor": 0,
  "metadata": {
    "colab": {
      "provenance": [],
      "machine_shape": "hm",
      "collapsed_sections": [
        "3ovXPhG_8Pz9",
        "zLpUQWMf8UeH",
        "7BgEUbaY1PtM",
        "27WL5JtHeAfR",
        "aYVoEEZQd9eh",
        "08_gFO1q2bxH",
        "DKLHvvFE2fWy"
      ],
      "include_colab_link": true
    },
    "kernelspec": {
      "name": "python3",
      "display_name": "Python 3"
    }
  },
  "cells": [
    {
      "cell_type": "markdown",
      "metadata": {
        "id": "view-in-github",
        "colab_type": "text"
      },
      "source": [
        "<a href=\"https://colab.research.google.com/github/aryansinghal10/Synopsys-2022-2023/blob/main/Sentiment_Analysis_Controversial_(25GB_RAM).ipynb\" target=\"_parent\"><img src=\"https://colab.research.google.com/assets/colab-badge.svg\" alt=\"Open In Colab\"/></a>"
      ]
    },
    {
      "cell_type": "markdown",
      "source": [
        "Context\n",
        "The objective of this task is to detect hate speech in tweets. For the sake of simplicity, we say a tweet contains hate speech if it has a racist or sexist sentiment associated with it. So, the task is to classify racist or sexist tweets from other tweets.\n",
        "\n",
        "Formally, given a training sample of tweets and labels, where label '1' denotes the tweet is racist/sexist and label '0' denotes the tweet is not racist/sexist, your objective is to predict the labels on the test dataset.\n",
        "\n",
        "Content\n",
        "Full tweet texts are provided with their labels for training data.\n",
        "Mentioned users' username is replaced with @user."
      ],
      "metadata": {
        "id": "CqRCWfhYmvDn"
      }
    },
    {
      "cell_type": "markdown",
      "metadata": {
        "id": "3ovXPhG_8Pz9"
      },
      "source": [
        "#Imports"
      ]
    },
    {
      "cell_type": "code",
      "execution_count": null,
      "metadata": {
        "id": "AVjUjgnk4JBQ",
        "colab": {
          "base_uri": "https://localhost:8080/"
        },
        "outputId": "1fe24486-f6ce-47f2-cf6f-641e2f5dc15a"
      },
      "outputs": [
        {
          "output_type": "stream",
          "name": "stderr",
          "text": [
            "[nltk_data] Downloading collection 'popular'\n",
            "[nltk_data]    | \n",
            "[nltk_data]    | Downloading package cmudict to /root/nltk_data...\n",
            "[nltk_data]    |   Package cmudict is already up-to-date!\n",
            "[nltk_data]    | Downloading package gazetteers to /root/nltk_data...\n",
            "[nltk_data]    |   Package gazetteers is already up-to-date!\n",
            "[nltk_data]    | Downloading package genesis to /root/nltk_data...\n",
            "[nltk_data]    |   Package genesis is already up-to-date!\n",
            "[nltk_data]    | Downloading package gutenberg to /root/nltk_data...\n",
            "[nltk_data]    |   Package gutenberg is already up-to-date!\n",
            "[nltk_data]    | Downloading package inaugural to /root/nltk_data...\n",
            "[nltk_data]    |   Package inaugural is already up-to-date!\n",
            "[nltk_data]    | Downloading package movie_reviews to\n",
            "[nltk_data]    |     /root/nltk_data...\n",
            "[nltk_data]    |   Package movie_reviews is already up-to-date!\n",
            "[nltk_data]    | Downloading package names to /root/nltk_data...\n",
            "[nltk_data]    |   Package names is already up-to-date!\n",
            "[nltk_data]    | Downloading package shakespeare to /root/nltk_data...\n",
            "[nltk_data]    |   Package shakespeare is already up-to-date!\n",
            "[nltk_data]    | Downloading package stopwords to /root/nltk_data...\n",
            "[nltk_data]    |   Package stopwords is already up-to-date!\n",
            "[nltk_data]    | Downloading package treebank to /root/nltk_data...\n",
            "[nltk_data]    |   Package treebank is already up-to-date!\n",
            "[nltk_data]    | Downloading package twitter_samples to\n",
            "[nltk_data]    |     /root/nltk_data...\n",
            "[nltk_data]    |   Package twitter_samples is already up-to-date!\n",
            "[nltk_data]    | Downloading package omw to /root/nltk_data...\n",
            "[nltk_data]    |   Package omw is already up-to-date!\n",
            "[nltk_data]    | Downloading package omw-1.4 to /root/nltk_data...\n",
            "[nltk_data]    |   Package omw-1.4 is already up-to-date!\n",
            "[nltk_data]    | Downloading package wordnet to /root/nltk_data...\n",
            "[nltk_data]    |   Package wordnet is already up-to-date!\n",
            "[nltk_data]    | Downloading package wordnet2021 to /root/nltk_data...\n",
            "[nltk_data]    |   Package wordnet2021 is already up-to-date!\n",
            "[nltk_data]    | Downloading package wordnet31 to /root/nltk_data...\n",
            "[nltk_data]    |   Package wordnet31 is already up-to-date!\n",
            "[nltk_data]    | Downloading package wordnet_ic to /root/nltk_data...\n",
            "[nltk_data]    |   Package wordnet_ic is already up-to-date!\n",
            "[nltk_data]    | Downloading package words to /root/nltk_data...\n",
            "[nltk_data]    |   Package words is already up-to-date!\n",
            "[nltk_data]    | Downloading package maxent_ne_chunker to\n",
            "[nltk_data]    |     /root/nltk_data...\n",
            "[nltk_data]    |   Package maxent_ne_chunker is already up-to-date!\n",
            "[nltk_data]    | Downloading package punkt to /root/nltk_data...\n",
            "[nltk_data]    |   Package punkt is already up-to-date!\n",
            "[nltk_data]    | Downloading package snowball_data to\n",
            "[nltk_data]    |     /root/nltk_data...\n",
            "[nltk_data]    |   Package snowball_data is already up-to-date!\n",
            "[nltk_data]    | Downloading package averaged_perceptron_tagger to\n",
            "[nltk_data]    |     /root/nltk_data...\n",
            "[nltk_data]    |   Package averaged_perceptron_tagger is already up-\n",
            "[nltk_data]    |       to-date!\n",
            "[nltk_data]    | \n",
            "[nltk_data]  Done downloading collection popular\n"
          ]
        }
      ],
      "source": [
        "import numpy as np # linear algebra\n",
        "import pandas as pd # data processing, CSV file I/O (e.g. pd.read_csv)\n",
        "import seaborn as sns #for visualization\n",
        "import matplotlib.pyplot as plt #for visualization\n",
        "import string\n",
        "from datetime import datetime, timedelta\n",
        "\n",
        "from wordcloud import WordCloud, STOPWORDS, ImageColorGenerator # WordCloud\n",
        "from PIL import Image\n",
        "\n",
        "import nltk\n",
        "nltk.download('popular')\n",
        "from nltk.corpus import stopwords\n",
        "\n",
        "from sklearn.model_selection import train_test_split\n",
        "from sklearn.feature_extraction.text import CountVectorizer\n",
        "from sklearn.naive_bayes import MultinomialNB #for discrete values\n",
        "from sklearn.metrics import confusion_matrix, classification_report, accuracy_score"
      ]
    },
    {
      "cell_type": "markdown",
      "metadata": {
        "id": "zLpUQWMf8UeH"
      },
      "source": [
        "#Loading the Data"
      ]
    },
    {
      "cell_type": "code",
      "execution_count": null,
      "metadata": {
        "id": "i0uNlG_R7_mM",
        "colab": {
          "base_uri": "https://localhost:8080/"
        },
        "outputId": "1f4ac8c5-60a3-4c8a-d95d-aa7bee54d22f"
      },
      "outputs": [
        {
          "output_type": "stream",
          "name": "stdout",
          "text": [
            "Mounted at /content/drive\n"
          ]
        }
      ],
      "source": [
        "from google.colab import drive\n",
        "drive.mount('/content/drive', force_remount = True)"
      ]
    },
    {
      "cell_type": "code",
      "execution_count": null,
      "metadata": {
        "id": "eriDGkVc8Bgh"
      },
      "outputs": [],
      "source": [
        "train_set = pd.read_csv(\"/content/drive/MyDrive/SynopsysTwitter/train.csv\")\n",
        "test_set = pd.read_csv(\"/content/drive/MyDrive/SynopsysTwitter/test.csv\")"
      ]
    },
    {
      "cell_type": "markdown",
      "metadata": {
        "id": "7BgEUbaY1PtM"
      },
      "source": [
        "#Cleaning the Data"
      ]
    },
    {
      "cell_type": "code",
      "execution_count": null,
      "metadata": {
        "id": "aUiIW6sh1Yz-",
        "colab": {
          "base_uri": "https://localhost:8080/"
        },
        "outputId": "9ff09afa-6028-4f78-80a1-687683b0dcce"
      },
      "outputs": [
        {
          "output_type": "execute_result",
          "data": {
            "text/plain": [
              "(31962, 3)"
            ]
          },
          "metadata": {},
          "execution_count": 4
        }
      ],
      "source": [
        "train_set.shape"
      ]
    },
    {
      "cell_type": "code",
      "execution_count": null,
      "metadata": {
        "id": "S_6CFEgq2lRa",
        "colab": {
          "base_uri": "https://localhost:8080/"
        },
        "outputId": "61e54e07-1cfd-4e03-f4a9-acbd0bcd353c"
      },
      "outputs": [
        {
          "output_type": "execute_result",
          "data": {
            "text/plain": [
              "(31962, 3)"
            ]
          },
          "metadata": {},
          "execution_count": 5
        }
      ],
      "source": [
        "train_set.drop_duplicates(inplace = True)\n",
        "train_set.shape"
      ]
    },
    {
      "cell_type": "code",
      "execution_count": null,
      "metadata": {
        "id": "kzULn-be2lsm",
        "colab": {
          "base_uri": "https://localhost:8080/"
        },
        "outputId": "0e786e40-b05e-4990-89e5-a3f9490807db"
      },
      "outputs": [
        {
          "output_type": "execute_result",
          "data": {
            "text/plain": [
              "id       0\n",
              "label    0\n",
              "tweet    0\n",
              "dtype: int64"
            ]
          },
          "metadata": {},
          "execution_count": 6
        }
      ],
      "source": [
        "train_set.isnull().sum()"
      ]
    },
    {
      "cell_type": "code",
      "execution_count": null,
      "metadata": {
        "id": "dLJ2aBkp2ozT",
        "colab": {
          "base_uri": "https://localhost:8080/"
        },
        "outputId": "d6df8e5d-aa96-4dc6-c794-5f4cecb7e2cf"
      },
      "outputs": [
        {
          "output_type": "execute_result",
          "data": {
            "text/plain": [
              "(17197, 2)"
            ]
          },
          "metadata": {},
          "execution_count": 7
        }
      ],
      "source": [
        "test_set.shape"
      ]
    },
    {
      "cell_type": "code",
      "execution_count": null,
      "metadata": {
        "id": "mgaaFiDM2rR_",
        "colab": {
          "base_uri": "https://localhost:8080/"
        },
        "outputId": "14d81702-cb00-4c9c-d1c6-f31bc3bcf193"
      },
      "outputs": [
        {
          "output_type": "execute_result",
          "data": {
            "text/plain": [
              "(17197, 2)"
            ]
          },
          "metadata": {},
          "execution_count": 8
        }
      ],
      "source": [
        "test_set.drop_duplicates(inplace = True)\n",
        "test_set.shape"
      ]
    },
    {
      "cell_type": "code",
      "execution_count": null,
      "metadata": {
        "id": "dhiX6qCH2sfZ",
        "colab": {
          "base_uri": "https://localhost:8080/"
        },
        "outputId": "333f61b9-a2b1-400f-a0ca-83b79f05b775"
      },
      "outputs": [
        {
          "output_type": "execute_result",
          "data": {
            "text/plain": [
              "id       0\n",
              "tweet    0\n",
              "dtype: int64"
            ]
          },
          "metadata": {},
          "execution_count": 9
        }
      ],
      "source": [
        "test_set.isnull().sum()"
      ]
    },
    {
      "cell_type": "code",
      "execution_count": null,
      "metadata": {
        "id": "m3KjrEPR2tdq",
        "colab": {
          "base_uri": "https://localhost:8080/"
        },
        "outputId": "d0d6f2cd-0b92-4fae-fb68-27cd5603d438"
      },
      "outputs": [
        {
          "output_type": "stream",
          "name": "stdout",
          "text": [
            "Train set shape: (31962, 3) and test set shape: (17197, 2)\n"
          ]
        }
      ],
      "source": [
        "print(\"Train set shape: {} and test set shape: {}\".format(train_set.shape, test_set.shape))"
      ]
    },
    {
      "cell_type": "code",
      "execution_count": null,
      "metadata": {
        "id": "11qm9Zct4sRJ",
        "colab": {
          "base_uri": "https://localhost:8080/"
        },
        "outputId": "1b4fa3e9-1107-4ee1-8e68-186530ffe52a"
      },
      "outputs": [
        {
          "output_type": "execute_result",
          "data": {
            "text/plain": [
              "'!\"#$%&\\'()*+,-./:;<=>?@[\\\\]^_`{|}~'"
            ],
            "application/vnd.google.colaboratory.intrinsic+json": {
              "type": "string"
            }
          },
          "metadata": {},
          "execution_count": 11
        }
      ],
      "source": [
        "string.punctuation"
      ]
    },
    {
      "cell_type": "code",
      "execution_count": null,
      "metadata": {
        "id": "94ra1alU30ez"
      },
      "outputs": [],
      "source": [
        "st = stopwords.words('english')\n",
        "st.append(\"and\")"
      ]
    },
    {
      "cell_type": "markdown",
      "metadata": {
        "id": "GXoYDcWf7LJH"
      },
      "source": [
        "#Building Vector Model using CountVectorizer"
      ]
    },
    {
      "cell_type": "markdown",
      "source": [
        "##Further Cleaning"
      ],
      "metadata": {
        "id": "27WL5JtHeAfR"
      }
    },
    {
      "cell_type": "markdown",
      "source": [
        "Testing with sample list"
      ],
      "metadata": {
        "id": "5WbGvu3XWso7"
      }
    },
    {
      "cell_type": "code",
      "execution_count": null,
      "metadata": {
        "id": "yGx4gbIX5lsN"
      },
      "outputs": [],
      "source": [
        "sample_data = [\"This is my first paper\", \"This is the second document\", \"here is the third thi one\"]"
      ]
    },
    {
      "cell_type": "code",
      "execution_count": null,
      "metadata": {
        "id": "7dwp6_Tg5ns6"
      },
      "outputs": [],
      "source": [
        "vectorizer = CountVectorizer()"
      ]
    },
    {
      "cell_type": "code",
      "execution_count": null,
      "metadata": {
        "id": "lv_Ls1ku5sWS"
      },
      "outputs": [],
      "source": [
        "X = vectorizer.fit_transform(sample_data)"
      ]
    },
    {
      "cell_type": "code",
      "execution_count": null,
      "metadata": {
        "id": "6iXHdBo_5tpl",
        "colab": {
          "base_uri": "https://localhost:8080/"
        },
        "outputId": "f75059bc-fe6e-4313-a79b-3dad01ae4230"
      },
      "outputs": [
        {
          "output_type": "execute_result",
          "data": {
            "text/plain": [
              "array(['document', 'first', 'here', 'is', 'my', 'one', 'paper', 'second',\n",
              "       'the', 'thi', 'third', 'this'], dtype=object)"
            ]
          },
          "metadata": {},
          "execution_count": 16
        }
      ],
      "source": [
        "vectorizer.get_feature_names_out()"
      ]
    },
    {
      "cell_type": "code",
      "execution_count": null,
      "metadata": {
        "id": "yd-mK8d35yvv",
        "colab": {
          "base_uri": "https://localhost:8080/"
        },
        "outputId": "a294c3dd-50eb-4119-972c-252f41576173"
      },
      "outputs": [
        {
          "output_type": "execute_result",
          "data": {
            "text/plain": [
              "array([[0, 1, 0, 1, 1, 0, 1, 0, 0, 0, 0, 1],\n",
              "       [1, 0, 0, 1, 0, 0, 0, 1, 1, 0, 0, 1],\n",
              "       [0, 0, 1, 1, 0, 1, 0, 0, 1, 1, 1, 0]])"
            ]
          },
          "metadata": {},
          "execution_count": 17
        }
      ],
      "source": [
        "X.toarray()"
      ]
    },
    {
      "cell_type": "markdown",
      "metadata": {
        "id": "-WALxPlJ54ZA"
      },
      "source": [
        "Creating a pipeline which removes punctuation, stopwords and peforms tokenization"
      ]
    },
    {
      "cell_type": "code",
      "execution_count": null,
      "metadata": {
        "id": "SZpS1r0u51U7"
      },
      "outputs": [],
      "source": [
        "def message_cleaning(message):\n",
        "  message = str(message)\n",
        "\n",
        "  test_punc_removed = [str(char) for char in message if str(char) not in string.punctuation]\n",
        "  test_punc_removed = ''.join(test_punc_removed)\n",
        "  test_punc_st_removed = []\n",
        "  for char in test_punc_removed.split():\n",
        "    if char.lower() not in st:\n",
        "      test_punc_st_removed.append(char)\n",
        "  test_punc_st_removed = \" \".join(test_punc_st_removed)  \n",
        "  return test_punc_st_removed"
      ]
    },
    {
      "cell_type": "code",
      "execution_count": null,
      "metadata": {
        "id": "-cccHEj96A63",
        "colab": {
          "base_uri": "https://localhost:8080/"
        },
        "outputId": "25273cee-bb3f-48b5-8be7-0579e23e0f1d"
      },
      "outputs": [
        {
          "output_type": "execute_result",
          "data": {
            "text/plain": [
              "'Goblin Ninja win 28000'"
            ],
            "application/vnd.google.colaboratory.intrinsic+json": {
              "type": "string"
            }
          },
          "metadata": {},
          "execution_count": 19
        }
      ],
      "source": [
        "message_cleaning(\"Goblin and Ninja fOR thE win!! .28.000\")"
      ]
    },
    {
      "cell_type": "code",
      "execution_count": null,
      "metadata": {
        "id": "7SFeeU5F6DWh"
      },
      "outputs": [],
      "source": [
        "train_set_clean = train_set['tweet'].apply(message_cleaning)"
      ]
    },
    {
      "cell_type": "code",
      "execution_count": null,
      "metadata": {
        "id": "o9h700f96FCZ",
        "colab": {
          "base_uri": "https://localhost:8080/"
        },
        "outputId": "306b321e-694d-4a27-cae1-144ddded9966"
      },
      "outputs": [
        {
          "output_type": "execute_result",
          "data": {
            "text/plain": [
              "\"the next school year is the year for exams.ð\\x9f\\x98¯ can't think about that ð\\x9f\\x98\\xad #school #exams   #hate #imagine #actorslife #revolutionschool #girl\""
            ],
            "application/vnd.google.colaboratory.intrinsic+json": {
              "type": "string"
            }
          },
          "metadata": {},
          "execution_count": 21
        }
      ],
      "source": [
        "train_set['tweet'][7]"
      ]
    },
    {
      "cell_type": "code",
      "execution_count": null,
      "metadata": {
        "id": "ThqtMSrs6NHy",
        "colab": {
          "base_uri": "https://localhost:8080/"
        },
        "outputId": "b3cdeb7f-db59-4ce8-bbce-0b72f2c6f5ea"
      },
      "outputs": [
        {
          "output_type": "execute_result",
          "data": {
            "text/plain": [
              "'next school year year examsð\\x9f\\x98¯ cant think ð\\x9f\\x98\\xad school exams hate imagine actorslife revolutionschool girl'"
            ],
            "application/vnd.google.colaboratory.intrinsic+json": {
              "type": "string"
            }
          },
          "metadata": {},
          "execution_count": 22
        }
      ],
      "source": [
        "train_set_clean[7]"
      ]
    },
    {
      "cell_type": "markdown",
      "source": [
        "## Count Vectorizer"
      ],
      "metadata": {
        "id": "aYVoEEZQd9eh"
      }
    },
    {
      "cell_type": "code",
      "execution_count": null,
      "metadata": {
        "id": "cyCir5ab6QnD"
      },
      "outputs": [],
      "source": [
        "data = train_set_clean.tolist()"
      ]
    },
    {
      "cell_type": "code",
      "source": [
        "tweets_vectorizer = CountVectorizer()"
      ],
      "metadata": {
        "id": "m-i2r157UEh2"
      },
      "execution_count": null,
      "outputs": []
    },
    {
      "cell_type": "code",
      "source": [
        "tweets_countvectorizer = tweets_vectorizer.fit_transform(data).toarray()"
      ],
      "metadata": {
        "id": "tCh3NFiPUGGI"
      },
      "execution_count": null,
      "outputs": []
    },
    {
      "cell_type": "code",
      "execution_count": null,
      "metadata": {
        "id": "xoY0KICN6yyF",
        "colab": {
          "base_uri": "https://localhost:8080/"
        },
        "outputId": "41e1cafd-c012-4a16-8663-26914bee445d"
      },
      "outputs": [
        {
          "output_type": "execute_result",
          "data": {
            "text/plain": [
              "(31962, 43671)"
            ]
          },
          "metadata": {},
          "execution_count": 26
        }
      ],
      "source": [
        "tweets_countvectorizer.shape"
      ]
    },
    {
      "cell_type": "code",
      "execution_count": null,
      "metadata": {
        "id": "EvKfNZA460vh"
      },
      "outputs": [],
      "source": [
        "X = tweets_countvectorizer\n",
        "y = train_set['label']"
      ]
    },
    {
      "cell_type": "markdown",
      "metadata": {
        "id": "hvDaa97v7bSo"
      },
      "source": [
        "##Using Naive Bayes to Classify"
      ]
    },
    {
      "cell_type": "code",
      "execution_count": null,
      "metadata": {
        "id": "2wj9hj7p7U6i",
        "colab": {
          "base_uri": "https://localhost:8080/"
        },
        "outputId": "1224ea1c-c89f-45bf-f011-33244b6b5a7d"
      },
      "outputs": [
        {
          "output_type": "execute_result",
          "data": {
            "text/plain": [
              "(31962, 43671)"
            ]
          },
          "metadata": {},
          "execution_count": 28
        }
      ],
      "source": [
        "X.shape"
      ]
    },
    {
      "cell_type": "code",
      "execution_count": null,
      "metadata": {
        "id": "7rnKrm9S7eFb",
        "colab": {
          "base_uri": "https://localhost:8080/"
        },
        "outputId": "81ce9d3e-fa0d-42b9-9871-3252ede40e38"
      },
      "outputs": [
        {
          "output_type": "execute_result",
          "data": {
            "text/plain": [
              "(31962,)"
            ]
          },
          "metadata": {},
          "execution_count": 29
        }
      ],
      "source": [
        "y.shape"
      ]
    },
    {
      "cell_type": "code",
      "execution_count": null,
      "metadata": {
        "id": "ND8LX80j7kMV"
      },
      "outputs": [],
      "source": [
        "X_train, X_test, y_train, y_test = train_test_split(X, y, test_size = 0.2)"
      ]
    },
    {
      "cell_type": "code",
      "execution_count": null,
      "metadata": {
        "id": "pzvYkzeF7n0V"
      },
      "outputs": [],
      "source": [
        "NB_classifier = MultinomialNB()"
      ]
    },
    {
      "cell_type": "code",
      "execution_count": null,
      "metadata": {
        "id": "2I-1EYv77t6o",
        "colab": {
          "base_uri": "https://localhost:8080/",
          "height": 75
        },
        "outputId": "e178449e-33e0-41ae-d936-84b116ceec9b"
      },
      "outputs": [
        {
          "output_type": "execute_result",
          "data": {
            "text/plain": [
              "MultinomialNB()"
            ],
            "text/html": [
              "<style>#sk-container-id-1 {color: black;background-color: white;}#sk-container-id-1 pre{padding: 0;}#sk-container-id-1 div.sk-toggleable {background-color: white;}#sk-container-id-1 label.sk-toggleable__label {cursor: pointer;display: block;width: 100%;margin-bottom: 0;padding: 0.3em;box-sizing: border-box;text-align: center;}#sk-container-id-1 label.sk-toggleable__label-arrow:before {content: \"▸\";float: left;margin-right: 0.25em;color: #696969;}#sk-container-id-1 label.sk-toggleable__label-arrow:hover:before {color: black;}#sk-container-id-1 div.sk-estimator:hover label.sk-toggleable__label-arrow:before {color: black;}#sk-container-id-1 div.sk-toggleable__content {max-height: 0;max-width: 0;overflow: hidden;text-align: left;background-color: #f0f8ff;}#sk-container-id-1 div.sk-toggleable__content pre {margin: 0.2em;color: black;border-radius: 0.25em;background-color: #f0f8ff;}#sk-container-id-1 input.sk-toggleable__control:checked~div.sk-toggleable__content {max-height: 200px;max-width: 100%;overflow: auto;}#sk-container-id-1 input.sk-toggleable__control:checked~label.sk-toggleable__label-arrow:before {content: \"▾\";}#sk-container-id-1 div.sk-estimator input.sk-toggleable__control:checked~label.sk-toggleable__label {background-color: #d4ebff;}#sk-container-id-1 div.sk-label input.sk-toggleable__control:checked~label.sk-toggleable__label {background-color: #d4ebff;}#sk-container-id-1 input.sk-hidden--visually {border: 0;clip: rect(1px 1px 1px 1px);clip: rect(1px, 1px, 1px, 1px);height: 1px;margin: -1px;overflow: hidden;padding: 0;position: absolute;width: 1px;}#sk-container-id-1 div.sk-estimator {font-family: monospace;background-color: #f0f8ff;border: 1px dotted black;border-radius: 0.25em;box-sizing: border-box;margin-bottom: 0.5em;}#sk-container-id-1 div.sk-estimator:hover {background-color: #d4ebff;}#sk-container-id-1 div.sk-parallel-item::after {content: \"\";width: 100%;border-bottom: 1px solid gray;flex-grow: 1;}#sk-container-id-1 div.sk-label:hover label.sk-toggleable__label {background-color: #d4ebff;}#sk-container-id-1 div.sk-serial::before {content: \"\";position: absolute;border-left: 1px solid gray;box-sizing: border-box;top: 0;bottom: 0;left: 50%;z-index: 0;}#sk-container-id-1 div.sk-serial {display: flex;flex-direction: column;align-items: center;background-color: white;padding-right: 0.2em;padding-left: 0.2em;position: relative;}#sk-container-id-1 div.sk-item {position: relative;z-index: 1;}#sk-container-id-1 div.sk-parallel {display: flex;align-items: stretch;justify-content: center;background-color: white;position: relative;}#sk-container-id-1 div.sk-item::before, #sk-container-id-1 div.sk-parallel-item::before {content: \"\";position: absolute;border-left: 1px solid gray;box-sizing: border-box;top: 0;bottom: 0;left: 50%;z-index: -1;}#sk-container-id-1 div.sk-parallel-item {display: flex;flex-direction: column;z-index: 1;position: relative;background-color: white;}#sk-container-id-1 div.sk-parallel-item:first-child::after {align-self: flex-end;width: 50%;}#sk-container-id-1 div.sk-parallel-item:last-child::after {align-self: flex-start;width: 50%;}#sk-container-id-1 div.sk-parallel-item:only-child::after {width: 0;}#sk-container-id-1 div.sk-dashed-wrapped {border: 1px dashed gray;margin: 0 0.4em 0.5em 0.4em;box-sizing: border-box;padding-bottom: 0.4em;background-color: white;}#sk-container-id-1 div.sk-label label {font-family: monospace;font-weight: bold;display: inline-block;line-height: 1.2em;}#sk-container-id-1 div.sk-label-container {text-align: center;}#sk-container-id-1 div.sk-container {/* jupyter's `normalize.less` sets `[hidden] { display: none; }` but bootstrap.min.css set `[hidden] { display: none !important; }` so we also need the `!important` here to be able to override the default hidden behavior on the sphinx rendered scikit-learn.org. See: https://github.com/scikit-learn/scikit-learn/issues/21755 */display: inline-block !important;position: relative;}#sk-container-id-1 div.sk-text-repr-fallback {display: none;}</style><div id=\"sk-container-id-1\" class=\"sk-top-container\"><div class=\"sk-text-repr-fallback\"><pre>MultinomialNB()</pre><b>In a Jupyter environment, please rerun this cell to show the HTML representation or trust the notebook. <br />On GitHub, the HTML representation is unable to render, please try loading this page with nbviewer.org.</b></div><div class=\"sk-container\" hidden><div class=\"sk-item\"><div class=\"sk-estimator sk-toggleable\"><input class=\"sk-toggleable__control sk-hidden--visually\" id=\"sk-estimator-id-1\" type=\"checkbox\" checked><label for=\"sk-estimator-id-1\" class=\"sk-toggleable__label sk-toggleable__label-arrow\">MultinomialNB</label><div class=\"sk-toggleable__content\"><pre>MultinomialNB()</pre></div></div></div></div></div>"
            ]
          },
          "metadata": {},
          "execution_count": 32
        }
      ],
      "source": [
        "NB_classifier.fit(X_train, y_train)"
      ]
    },
    {
      "cell_type": "code",
      "execution_count": null,
      "metadata": {
        "id": "n-AGE_S_70kb"
      },
      "outputs": [],
      "source": [
        "y_pred = NB_classifier.predict(X_test)"
      ]
    },
    {
      "cell_type": "code",
      "execution_count": null,
      "metadata": {
        "id": "2Mm9nJl-74A_",
        "colab": {
          "base_uri": "https://localhost:8080/"
        },
        "outputId": "6a73c7ea-fc0d-465d-f861-d35a09a6bdff"
      },
      "outputs": [
        {
          "output_type": "execute_result",
          "data": {
            "text/plain": [
              "array([[5803,  171],\n",
              "       [ 191,  228]])"
            ]
          },
          "metadata": {},
          "execution_count": 34
        }
      ],
      "source": [
        "cm = confusion_matrix(y_test, y_pred)\n",
        "cm"
      ]
    },
    {
      "cell_type": "code",
      "execution_count": null,
      "metadata": {
        "id": "Q6pvFKJm7_-2",
        "colab": {
          "base_uri": "https://localhost:8080/",
          "height": 283
        },
        "outputId": "64e9d8e4-8276-45b1-9b85-f38ca7a4d9dd"
      },
      "outputs": [
        {
          "output_type": "execute_result",
          "data": {
            "text/plain": [
              "<AxesSubplot:>"
            ]
          },
          "metadata": {},
          "execution_count": 35
        },
        {
          "output_type": "display_data",
          "data": {
            "text/plain": [
              "<Figure size 432x288 with 2 Axes>"
            ],
            "image/png": "[encoded data removed]"
          },
          "metadata": {
            "needs_background": "light"
          }
        }
      ],
      "source": [
        "linewidths = 2\n",
        "linecolor = \"yellow\"\n",
        "\n",
        "sns.heatmap(cm, linewidths=linewidths, linecolor=linecolor, annot = True)"
      ]
    },
    {
      "cell_type": "code",
      "execution_count": null,
      "metadata": {
        "id": "SOQXGdKu8B-I",
        "colab": {
          "base_uri": "https://localhost:8080/"
        },
        "outputId": "9324c06d-55ad-4663-9cff-7d88ebc759e4"
      },
      "outputs": [
        {
          "output_type": "stream",
          "name": "stdout",
          "text": [
            "94.33755670264352\n"
          ]
        }
      ],
      "source": [
        "print(accuracy_score(y_test, y_pred) * 100)"
      ]
    },
    {
      "cell_type": "code",
      "execution_count": null,
      "metadata": {
        "id": "5LznvTrQ8Erx",
        "colab": {
          "base_uri": "https://localhost:8080/"
        },
        "outputId": "1b2e0503-2fd2-4558-b0dd-b854693b9e6f"
      },
      "outputs": [
        {
          "output_type": "stream",
          "name": "stdout",
          "text": [
            "              precision    recall  f1-score   support\n",
            "\n",
            "           0       0.97      0.97      0.97      5974\n",
            "           1       0.57      0.54      0.56       419\n",
            "\n",
            "    accuracy                           0.94      6393\n",
            "   macro avg       0.77      0.76      0.76      6393\n",
            "weighted avg       0.94      0.94      0.94      6393\n",
            "\n"
          ]
        }
      ],
      "source": [
        "print(classification_report(y_test, y_pred))"
      ]
    },
    {
      "cell_type": "markdown",
      "source": [
        "#Data Reading"
      ],
      "metadata": {
        "id": "Wtp4ypnsmRsP"
      }
    },
    {
      "cell_type": "markdown",
      "source": [
        "##Controversial"
      ],
      "metadata": {
        "id": "8Ik9WCGxtwaJ"
      }
    },
    {
      "cell_type": "markdown",
      "source": [
        "### Combine Tweet Dataframes"
      ],
      "metadata": {
        "id": "08_gFO1q2bxH"
      }
    },
    {
      "cell_type": "code",
      "source": [
        "path = \"/content/drive/MyDrive/SynopsysTwitter/data/\"\n",
        "\n",
        "def combine_tweets(keyword, since_date):\n",
        "  tweets = []\n",
        "  limit = 5000\n",
        "\n",
        "  dates = since_date.split('-')\n",
        "  year = int(dates[0])\n",
        "  month = int(dates[1])\n",
        "  day = int(dates[2])\n",
        "  since = datetime(year, month, day)\n",
        "\n",
        "  cont = \"/cont/\"\n",
        "\n",
        "  file_name1 = path + cont + (\"_\".join([keyword, since_date, str(limit),]) + \"_C15.csv\")\n",
        "  file_name2 = path + cont + (\"_\".join([keyword, since_date, str(limit),]) + \"_C30.csv\")\n",
        "  file_name = \"_\".join([keyword, since_date, str(10000)]) + \"_C.csv\"\n",
        "  \n",
        "  df_csv_concat = pd.concat([pd.read_csv(file, nrows = 10000) for file in [file_name1, file_name2]], ignore_index=True)\n",
        "  df_csv_concat.to_csv(file_name)"
      ],
      "metadata": {
        "id": "PObpM1jDeF2n"
      },
      "execution_count": null,
      "outputs": []
    },
    {
      "cell_type": "code",
      "source": [
        "cont_kw_list = ['rights', 'global warming', 'trump', 'wage', 'meat']\n",
        "start_date_list = ['2022-08-01', '2022-09-01', '2022-10-01', '2022-11-01', '2022-12-01', '2023-01-01']\n",
        "\n",
        "for kw in cont_kw_list:\n",
        "  for date in start_date_list:\n",
        "    combine_tweets(kw, date)"
      ],
      "metadata": {
        "id": "Abakr20-uBff"
      },
      "execution_count": null,
      "outputs": []
    },
    {
      "cell_type": "markdown",
      "source": [
        "### Read Tweet Dataframes"
      ],
      "metadata": {
        "id": "DKLHvvFE2fWy"
      }
    },
    {
      "cell_type": "code",
      "source": [
        "def read_tweets(keyword, since_date):\n",
        "  tweets = []\n",
        "  limit = 10000\n",
        "\n",
        "  dates = since_date.split('-')\n",
        "  year = int(dates[0])\n",
        "  month = int(dates[1])\n",
        "  day = int(dates[2])\n",
        "  since = datetime(year, month, day)\n",
        "\n",
        "  cont = \"/cont/\"\n",
        "\n",
        "  file_name = \"_\".join([keyword, since_date, str(limit)]) + \"_C.csv\"\n",
        "  \n",
        "  df_csv_concat = \"/content/\" + file_name\n",
        "  df = pd.read_csv(df_csv_concat)\n",
        "  cont_list.append(df)"
      ],
      "metadata": {
        "id": "YR05SuiFl3qp"
      },
      "execution_count": null,
      "outputs": []
    },
    {
      "cell_type": "code",
      "source": [
        "gw = \"gw/\"\n",
        "meat = \"meat/\"\n",
        "rights = \"rights/\"\n",
        "trump = \"trump/\"\n",
        "wage = \"wage/\"\n",
        "\n",
        "cont_list = []\n",
        "\n",
        "cont_list.append(pd.read_csv(path + gw + \"global warming_2022-01-01_10000_C.csv\", nrows = 10000))\n",
        "cont_list.append(pd.read_csv(path + gw + \"global warming_2022-02-01_10000_C.csv\", nrows = 10000))\n",
        "cont_list.append(pd.read_csv(path + gw + \"global warming_2022-03-01_10000_C.csv\", nrows = 10000))\n",
        "cont_list.append(pd.read_csv(path + gw + \"global warming_2022-04-01_10000_C.csv\", nrows = 10000))\n",
        "cont_list.append(pd.read_csv(path + gw + \"global warming_2022-05-01_10000_C.csv\", nrows = 10000))\n",
        "cont_list.append(pd.read_csv(path + gw + \"global warming_2022-06-01_10000_C.csv\", nrows = 10000))\n",
        "cont_list.append(pd.read_csv(path + gw + \"global warming_2022-07-01_10000_C.csv\", nrows = 10000))\n",
        "\n",
        "cont_list.append(pd.read_csv(path + meat + \"meat_2022-01-01_10000_C.csv\", nrows = 10000))\n",
        "cont_list.append(pd.read_csv(path + meat + \"meat_2022-02-01_10000_C.csv\", nrows = 10000))\n",
        "cont_list.append(pd.read_csv(path + meat + \"meat_2022-03-01_10000_C.csv\", nrows = 10000))\n",
        "cont_list.append(pd.read_csv(path + meat + \"meat_2022-04-01_10000_C.csv\", nrows = 10000))\n",
        "cont_list.append(pd.read_csv(path + meat + \"meat_2022-05-01_10000_C.csv\", nrows = 10000))\n",
        "cont_list.append(pd.read_csv(path + meat + \"meat_2022-06-01_10000_C.csv\", nrows = 10000))\n",
        "cont_list.append(pd.read_csv(path + meat + \"meat_2022-07-01_10000_C.csv\", nrows = 10000))\n",
        "\n",
        "cont_list.append(pd.read_csv(path + rights + \"rights_2022-01-01_10000_C.csv\", nrows = 10000))\n",
        "cont_list.append(pd.read_csv(path + rights + \"rights_2022-02-01_10000_C.csv\", nrows = 10000))\n",
        "cont_list.append(pd.read_csv(path + rights + \"rights_2022-03-01_10000_C.csv\", nrows = 10000))\n",
        "cont_list.append(pd.read_csv(path + rights + \"rights_2022-04-01_10000_C.csv\", nrows = 10000))\n",
        "cont_list.append(pd.read_csv(path + rights + \"rights_2022-05-01_10000_C.csv\", nrows = 10000))\n",
        "cont_list.append(pd.read_csv(path + rights + \"rights_2022-06-01_10000_C.csv\", nrows = 10000))\n",
        "cont_list.append(pd.read_csv(path + rights + \"rights_2022-07-01_10000_C.csv\", nrows = 10000))\n",
        "\n",
        "cont_list.append(pd.read_csv(path + trump + \"trump_2022-01-01_10000_C.csv\", nrows = 10000))\n",
        "cont_list.append(pd.read_csv(path + trump + \"trump_2022-02-01_10000_C.csv\", nrows = 10000))\n",
        "cont_list.append(pd.read_csv(path + trump + \"trump_2022-03-01_10000_C.csv\", nrows = 10000))\n",
        "cont_list.append(pd.read_csv(path + trump + \"trump_2022-04-01_10000_C.csv\", nrows = 10000))\n",
        "cont_list.append(pd.read_csv(path + trump + \"trump_2022-05-01_10000_C.csv\", nrows = 10000))\n",
        "cont_list.append(pd.read_csv(path + trump + \"trump_2022-06-01_10000_C.csv\", nrows = 10000))\n",
        "cont_list.append(pd.read_csv(path + trump + \"trump_2022-07-01_10000_C.csv\", nrows = 10000))\n",
        "\n",
        "cont_list.append(pd.read_csv(path + wage + \"wage_2022-01-01_10000_C.csv\", nrows = 10000))\n",
        "cont_list.append(pd.read_csv(path + wage + \"wage_2022-02-01_10000_C.csv\", nrows = 10000))\n",
        "cont_list.append(pd.read_csv(path + wage + \"wage_2022-03-01_10000_C.csv\", nrows = 10000))\n",
        "cont_list.append(pd.read_csv(path + wage + \"wage_2022-04-01_10000_C.csv\", nrows = 10000))\n",
        "cont_list.append(pd.read_csv(path + wage + \"wage_2022-05-01_10000_C.csv\", nrows = 10000))\n",
        "cont_list.append(pd.read_csv(path + wage + \"wage_2022-06-01_10000_C.csv\", nrows = 10000))\n",
        "cont_list.append(pd.read_csv(path + wage + \"wage_2022-07-01_10000_C.csv\", nrows = 10000))\n",
        "\n",
        "cont_kw_list = ['global warming', 'meat', 'rights', 'trump', 'wage']\n",
        "start_date_list = ['2022-08-01', '2022-09-01', '2022-10-01',\n",
        "                   '2022-11-01', '2022-12-01','2023-01-01']\n",
        "\n",
        "for kw in cont_kw_list:\n",
        "  for date in start_date_list:\n",
        "    read_tweets(kw, date)"
      ],
      "metadata": {
        "id": "JB4bzE8TeFh_"
      },
      "execution_count": null,
      "outputs": []
    },
    {
      "cell_type": "code",
      "source": [
        "num_total_neg_cont = 0\n",
        "\n",
        "for csv_file in cont_list:\n",
        "  csv_file = csv_file.drop(\"Unnamed: 0\", axis = 1)\n",
        "  csv_file = csv_file.drop(\"Date\", axis = 1)\n",
        "  csv_file_clean = csv_file['Tweet'].apply(message_cleaning)\n",
        "  csv_file = csv_file_clean.tolist()\n",
        "  csv_count = tweets_vectorizer.transform(csv_file)\n",
        "  csv_count.toarray()\n",
        "  csv_pred = NB_classifier.predict(csv_count)\n",
        "\n",
        "  #print(csv_pred)\n",
        "\n",
        "  num_neg = 0\n",
        "  count = 0\n",
        "  for i in csv_pred:\n",
        "    if i == 1:\n",
        "      num_neg = num_neg + 1\n",
        "    count = count + 1\n",
        "  #print(count)\n",
        "  #print(\"Num neg: \" + str(num_neg) + \"\\n\")\n",
        "  num_total_neg_cont = num_total_neg_cont + num_neg\n",
        "  #print(\"Num total neg: \" + str(num_total_neg_cont) + \"\\n\")"
      ],
      "metadata": {
        "id": "YsoXTdjWtjsc"
      },
      "execution_count": null,
      "outputs": []
    },
    {
      "cell_type": "markdown",
      "source": [
        "# Graphs"
      ],
      "metadata": {
        "id": "WsODVbub8MlX"
      }
    },
    {
      "cell_type": "markdown",
      "source": [
        "## linegraph"
      ],
      "metadata": {
        "id": "QeXGlsVkvY40"
      }
    },
    {
      "cell_type": "markdown",
      "source": [
        "### Data collection"
      ],
      "metadata": {
        "id": "2CUT7AyQiZG8"
      }
    },
    {
      "cell_type": "code",
      "source": [
        "content = \"/content/\"\n",
        "gw = \"global warming\"\n",
        "meat = \"meat\"\n",
        "rights = \"rights\"\n",
        "trump = \"trump\"\n",
        "wage = \"wage\"\n",
        "gw1 = \"gw/\"\n",
        "meat1 = \"meat/\"\n",
        "rights1 = \"rights/\"\n",
        "trump1 = \"trump/\"\n",
        "wage1 = \"wage/\"\n",
        "\n",
        "\n",
        "cont_list_gw = []\n",
        "cont_list_gw.append(pd.read_csv(path + gw1 + \"global warming_2022-01-01_10000_C.csv\", nrows = 10000))\n",
        "cont_list_gw.append(pd.read_csv(path + gw1 + \"global warming_2022-02-01_10000_C.csv\", nrows = 10000))\n",
        "cont_list_gw.append(pd.read_csv(path + gw1 + \"global warming_2022-03-01_10000_C.csv\", nrows = 10000))\n",
        "cont_list_gw.append(pd.read_csv(path + gw1 + \"global warming_2022-04-01_10000_C.csv\", nrows = 10000))\n",
        "cont_list_gw.append(pd.read_csv(path + gw1 + \"global warming_2022-05-01_10000_C.csv\", nrows = 10000))\n",
        "cont_list_gw.append(pd.read_csv(path + gw1 + \"global warming_2022-06-01_10000_C.csv\", nrows = 10000))\n",
        "cont_list_gw.append(pd.read_csv(path + gw1 + \"global warming_2022-07-01_10000_C.csv\", nrows = 10000))\n",
        "cont_list_gw.append(pd.read_csv(content + gw + \"_2022-08-01_10000_C.csv\", nrows = 10000))\n",
        "cont_list_gw.append(pd.read_csv(content + gw + \"_2022-09-01_10000_C.csv\", nrows = 10000))\n",
        "cont_list_gw.append(pd.read_csv(content + gw + \"_2022-10-01_10000_C.csv\", nrows = 10000))\n",
        "cont_list_gw.append(pd.read_csv(content + gw + \"_2022-11-01_10000_C.csv\", nrows = 10000))\n",
        "cont_list_gw.append(pd.read_csv(content + gw + \"_2022-12-01_10000_C.csv\", nrows = 10000))\n",
        "cont_list_gw.append(pd.read_csv(content + gw + \"_2023-01-01_10000_C.csv\", nrows = 10000))\n",
        "\n",
        "cont_list_meat = []\n",
        "cont_list_meat.append(pd.read_csv(path + meat1 + \"meat_2022-01-01_10000_C.csv\", nrows = 10000))\n",
        "cont_list_meat.append(pd.read_csv(path + meat1 + \"meat_2022-02-01_10000_C.csv\", nrows = 10000))\n",
        "cont_list_meat.append(pd.read_csv(path + meat1 + \"meat_2022-03-01_10000_C.csv\", nrows = 10000))\n",
        "cont_list_meat.append(pd.read_csv(path + meat1 + \"meat_2022-04-01_10000_C.csv\", nrows = 10000))\n",
        "cont_list_meat.append(pd.read_csv(path + meat1 + \"meat_2022-05-01_10000_C.csv\", nrows = 10000))\n",
        "cont_list_meat.append(pd.read_csv(path + meat1 + \"meat_2022-06-01_10000_C.csv\", nrows = 10000))\n",
        "cont_list_meat.append(pd.read_csv(path + meat1 + \"meat_2022-07-01_10000_C.csv\", nrows = 10000))\n",
        "cont_list_meat.append(pd.read_csv(content + meat + \"_2022-08-01_10000_C.csv\", nrows = 10000))\n",
        "cont_list_meat.append(pd.read_csv(content + meat + \"_2022-09-01_10000_C.csv\", nrows = 10000))\n",
        "cont_list_meat.append(pd.read_csv(content + meat + \"_2022-10-01_10000_C.csv\", nrows = 10000))\n",
        "cont_list_meat.append(pd.read_csv(content + meat + \"_2022-11-01_10000_C.csv\", nrows = 10000))\n",
        "cont_list_meat.append(pd.read_csv(content + meat + \"_2022-12-01_10000_C.csv\", nrows = 10000))\n",
        "cont_list_meat.append(pd.read_csv(content + meat + \"_2023-01-01_10000_C.csv\", nrows = 10000))\n",
        "\n",
        "cont_list_rights = []\n",
        "cont_list_rights.append(pd.read_csv(path + rights1 + \"rights_2022-01-01_10000_C.csv\", nrows = 10000))\n",
        "cont_list_rights.append(pd.read_csv(path + rights1 + \"rights_2022-02-01_10000_C.csv\", nrows = 10000))\n",
        "cont_list_rights.append(pd.read_csv(path + rights1 + \"rights_2022-03-01_10000_C.csv\", nrows = 10000))\n",
        "cont_list_rights.append(pd.read_csv(path + rights1 + \"rights_2022-04-01_10000_C.csv\", nrows = 10000))\n",
        "cont_list_rights.append(pd.read_csv(path + rights1 + \"rights_2022-05-01_10000_C.csv\", nrows = 10000))\n",
        "cont_list_rights.append(pd.read_csv(path + rights1 + \"rights_2022-06-01_10000_C.csv\", nrows = 10000))\n",
        "cont_list_rights.append(pd.read_csv(path + rights1 + \"rights_2022-07-01_10000_C.csv\", nrows = 10000))\n",
        "cont_list_rights.append(pd.read_csv(content + rights + \"_2022-08-01_10000_C.csv\", nrows = 10000))\n",
        "cont_list_rights.append(pd.read_csv(content + rights + \"_2022-09-01_10000_C.csv\", nrows = 10000))\n",
        "cont_list_rights.append(pd.read_csv(content + rights + \"_2022-10-01_10000_C.csv\", nrows = 10000))\n",
        "cont_list_rights.append(pd.read_csv(content + rights + \"_2022-11-01_10000_C.csv\", nrows = 10000))\n",
        "cont_list_rights.append(pd.read_csv(content + rights + \"_2022-12-01_10000_C.csv\", nrows = 10000))\n",
        "cont_list_rights.append(pd.read_csv(content + rights + \"_2023-01-01_10000_C.csv\", nrows = 10000))\n",
        "\n",
        "cont_list_trump = []\n",
        "cont_list_trump.append(pd.read_csv(path + trump1 + \"trump_2022-01-01_10000_C.csv\", nrows = 10000))\n",
        "cont_list_trump.append(pd.read_csv(path + trump1 + \"trump_2022-02-01_10000_C.csv\", nrows = 10000))\n",
        "cont_list_trump.append(pd.read_csv(path + trump1 + \"trump_2022-03-01_10000_C.csv\", nrows = 10000))\n",
        "cont_list_trump.append(pd.read_csv(path + trump1 + \"trump_2022-04-01_10000_C.csv\", nrows = 10000))\n",
        "cont_list_trump.append(pd.read_csv(path + trump1 + \"trump_2022-05-01_10000_C.csv\", nrows = 10000))\n",
        "cont_list_trump.append(pd.read_csv(path + trump1 + \"trump_2022-06-01_10000_C.csv\", nrows = 10000))\n",
        "cont_list_trump.append(pd.read_csv(path + trump1 + \"trump_2022-07-01_10000_C.csv\", nrows = 10000))\n",
        "cont_list_trump.append(pd.read_csv(content + trump + \"_2022-08-01_10000_C.csv\", nrows = 10000))\n",
        "cont_list_trump.append(pd.read_csv(content + trump + \"_2022-09-01_10000_C.csv\", nrows = 10000))\n",
        "cont_list_trump.append(pd.read_csv(content + trump + \"_2022-10-01_10000_C.csv\", nrows = 10000))\n",
        "cont_list_trump.append(pd.read_csv(content + trump + \"_2022-11-01_10000_C.csv\", nrows = 10000))\n",
        "cont_list_trump.append(pd.read_csv(content + trump + \"_2022-12-01_10000_C.csv\", nrows = 10000))\n",
        "cont_list_trump.append(pd.read_csv(content + trump + \"_2023-01-01_10000_C.csv\", nrows = 10000))\n",
        "\n",
        "cont_list_wage = []\n",
        "cont_list_wage.append(pd.read_csv(path + wage1 + \"wage_2022-01-01_10000_C.csv\", nrows = 10000))\n",
        "cont_list_wage.append(pd.read_csv(path + wage1 + \"wage_2022-02-01_10000_C.csv\", nrows = 10000))\n",
        "cont_list_wage.append(pd.read_csv(path + wage1 + \"wage_2022-03-01_10000_C.csv\", nrows = 10000))\n",
        "cont_list_wage.append(pd.read_csv(path + wage1 + \"wage_2022-04-01_10000_C.csv\", nrows = 10000))\n",
        "cont_list_wage.append(pd.read_csv(path + wage1 + \"wage_2022-05-01_10000_C.csv\", nrows = 10000))\n",
        "cont_list_wage.append(pd.read_csv(path + wage1 + \"wage_2022-06-01_10000_C.csv\", nrows = 10000))\n",
        "cont_list_wage.append(pd.read_csv(path + wage1 + \"wage_2022-07-01_10000_C.csv\", nrows = 10000))\n",
        "cont_list_wage.append(pd.read_csv(content + wage + \"_2022-08-01_10000_C.csv\", nrows = 10000))\n",
        "cont_list_wage.append(pd.read_csv(content + wage + \"_2022-09-01_10000_C.csv\", nrows = 10000))\n",
        "cont_list_wage.append(pd.read_csv(content + wage + \"_2022-10-01_10000_C.csv\", nrows = 10000))\n",
        "cont_list_wage.append(pd.read_csv(content + wage + \"_2022-11-01_10000_C.csv\", nrows = 10000))\n",
        "cont_list_wage.append(pd.read_csv(content + wage + \"_2022-12-01_10000_C.csv\", nrows = 10000))\n",
        "cont_list_wage.append(pd.read_csv(content + wage + \"_2023-01-01_10000_C.csv\", nrows = 10000))\n",
        "\n",
        "overall = \"overall/\"\n",
        "overall_list = []\n",
        "overall_list.append(pd.read_csv(path + overall + \"overall_2022-01-01_10000_O.csv\", nrows = 10000))\n",
        "overall_list.append(pd.read_csv(path + overall + \"overall_2022-02-01_10000_O.csv\", nrows = 10000))\n",
        "overall_list.append(pd.read_csv(path + overall + \"overall_2022-03-01_10000_O.csv\", nrows = 10000))\n",
        "overall_list.append(pd.read_csv(path + overall + \"overall_2022-04-01_10000_O.csv\", nrows = 10000))\n",
        "overall_list.append(pd.read_csv(path + overall + \"overall_2022-05-01_10000_O.csv\", nrows = 10000))\n",
        "overall_list.append(pd.read_csv(path + overall + \"overall_2022-06-01_10000_O.csv\", nrows = 10000))\n",
        "overall_list.append(pd.read_csv(path + overall + \"overall_2022-07-01_10000_O.csv\", nrows = 9579))\n",
        "overall_list.append(pd.read_csv(path + overall + \"overall_2022-08-01_10000_O.csv\", nrows = 10000))\n",
        "overall_list.append(pd.read_csv(path + overall + \"overall_2022-09-01_10000_O.csv\", nrows = 10000))\n",
        "overall_list.append(pd.read_csv(path + overall + \"overall_2022-10-01_10000_O.csv\", nrows = 10000))\n",
        "overall_list.append(pd.read_csv(path + overall + \"overall_2022-11-01_10000_O.csv\", nrows = 10000))\n",
        "overall_list.append(pd.read_csv(path + overall + \"overall_2022-12-01_10000_O.csv\", nrows = 10000))\n",
        "overall_list.append(pd.read_csv(path + overall + \"overall_2023-01-01_10000_O.csv\", nrows = 10000))"
      ],
      "metadata": {
        "id": "Iz1qJkrzpqKR"
      },
      "execution_count": null,
      "outputs": []
    },
    {
      "cell_type": "code",
      "source": [
        "def get_neg_gw():\n",
        "  gw_neg_values = []\n",
        "  for csv_file in cont_list_gw:\n",
        "    csv_file = csv_file.drop(\"Unnamed: 0\", axis = 1)\n",
        "    csv_file = csv_file.drop(\"Date\", axis = 1)\n",
        "    csv_file_clean = csv_file['Tweet'].apply(message_cleaning)\n",
        "    csv_file = csv_file_clean.tolist()\n",
        "    csv_count = tweets_vectorizer.transform(csv_file)\n",
        "    csv_count.toarray()\n",
        "    csv_pred = NB_classifier.predict(csv_count)\n",
        "\n",
        "    num_neg = 0\n",
        "    count = 0\n",
        "    for i in csv_pred:\n",
        "      if i == 1:\n",
        "        num_neg = num_neg + 1\n",
        "      count = count + 1\n",
        "    #print(count)\n",
        "    #print(\"Gw num neg: \" + str(num_neg) + \"\\n\")\n",
        "    gw_neg_values.append(100 * (float(num_neg)/count))\n",
        "  \n",
        "  print(gw_neg_values)\n",
        "  return gw_neg_values"
      ],
      "metadata": {
        "id": "UFvcWnN_FTw7"
      },
      "execution_count": null,
      "outputs": []
    },
    {
      "cell_type": "code",
      "source": [
        "def get_neg_meat():\n",
        "  meat_neg_values = []\n",
        "  for csv_file in cont_list_meat:\n",
        "    csv_file = csv_file.drop(\"Unnamed: 0\", axis = 1)\n",
        "    csv_file = csv_file.drop(\"Date\", axis = 1)\n",
        "    csv_file_clean = csv_file['Tweet'].apply(message_cleaning)\n",
        "    csv_file = csv_file_clean.tolist()\n",
        "    csv_count = tweets_vectorizer.transform(csv_file)\n",
        "    csv_count.toarray()\n",
        "    csv_pred = NB_classifier.predict(csv_count)\n",
        "\n",
        "    num_neg = 0\n",
        "    count = 0\n",
        "    for i in csv_pred:\n",
        "      if i == 1:\n",
        "        num_neg = num_neg + 1\n",
        "      count = count + 1\n",
        "    #print(count)\n",
        "    #print(\"Meat num neg: \" + str(num_neg) + \"\\n\")\n",
        "    meat_neg_values.append(100 * (float(num_neg)/count))\n",
        "  \n",
        "  print(meat_neg_values)\n",
        "  return meat_neg_values"
      ],
      "metadata": {
        "id": "h8jX6D84IkMN"
      },
      "execution_count": null,
      "outputs": []
    },
    {
      "cell_type": "code",
      "source": [
        "def get_neg_rights():\n",
        "  rights_neg_values = []\n",
        "  for csv_file in cont_list_rights:\n",
        "    csv_file = csv_file.drop(\"Unnamed: 0\", axis = 1)\n",
        "    csv_file = csv_file.drop(\"Date\", axis = 1)\n",
        "    csv_file_clean = csv_file['Tweet'].apply(message_cleaning)\n",
        "    csv_file = csv_file_clean.tolist()\n",
        "    csv_count = tweets_vectorizer.transform(csv_file)\n",
        "    csv_count.toarray()\n",
        "    csv_pred = NB_classifier.predict(csv_count)\n",
        "\n",
        "    num_neg = 0\n",
        "    count = 0\n",
        "    for i in csv_pred:\n",
        "      if i == 1:\n",
        "        num_neg = num_neg + 1\n",
        "      count = count + 1\n",
        "    #print(count)\n",
        "    #print(\"Rights num neg: \" + str(num_neg) + \"\\n\")\n",
        "    rights_neg_values.append(100 * (float(num_neg)/count))\n",
        "  \n",
        "  print(rights_neg_values)\n",
        "  return rights_neg_values"
      ],
      "metadata": {
        "id": "7TRp4HJ3IrfQ"
      },
      "execution_count": null,
      "outputs": []
    },
    {
      "cell_type": "code",
      "source": [
        "def get_neg_trump():\n",
        "  trump_neg_values = []\n",
        "  for csv_file in cont_list_trump:\n",
        "    csv_file = csv_file.drop(\"Unnamed: 0\", axis = 1)\n",
        "    csv_file = csv_file.drop(\"Date\", axis = 1)\n",
        "    csv_file_clean = csv_file['Tweet'].apply(message_cleaning)\n",
        "    csv_file = csv_file_clean.tolist()\n",
        "    csv_count = tweets_vectorizer.transform(csv_file)\n",
        "    csv_count.toarray()\n",
        "    csv_pred = NB_classifier.predict(csv_count)\n",
        "\n",
        "    num_neg = 0\n",
        "    count = 0\n",
        "    for i in csv_pred:\n",
        "      if i == 1:\n",
        "        num_neg = num_neg + 1\n",
        "      count = count + 1\n",
        "    #print(count)\n",
        "    #print(\"Trump num neg: \" + str(num_neg) + \"\\n\")\n",
        "    trump_neg_values.append(100 * (float(num_neg)/count))\n",
        "  \n",
        "  print(trump_neg_values)\n",
        "  return trump_neg_values"
      ],
      "metadata": {
        "id": "ue8qkzroIyIM"
      },
      "execution_count": null,
      "outputs": []
    },
    {
      "cell_type": "code",
      "source": [
        "def get_neg_wage():\n",
        "  wage_neg_values = []\n",
        "  for csv_file in cont_list_wage:\n",
        "    csv_file = csv_file.drop(\"Unnamed: 0\", axis = 1)\n",
        "    csv_file = csv_file.drop(\"Date\", axis = 1)\n",
        "    csv_file_clean = csv_file['Tweet'].apply(message_cleaning)\n",
        "    csv_file = csv_file_clean.tolist()\n",
        "    csv_count = tweets_vectorizer.transform(csv_file)\n",
        "    csv_count.toarray()\n",
        "    csv_pred = NB_classifier.predict(csv_count)\n",
        "\n",
        "    num_neg = 0\n",
        "    count = 0\n",
        "    for i in csv_pred:\n",
        "      if i == 1:\n",
        "        num_neg = num_neg + 1\n",
        "      count = count + 1\n",
        "    #print(count)\n",
        "    #print(\"Wage num neg: \" + str(num_neg) + \"\\n\")\n",
        "    wage_neg_values.append(100 * (float(num_neg)/count))\n",
        "  \n",
        "  print(wage_neg_values)\n",
        "  return wage_neg_values"
      ],
      "metadata": {
        "id": "WM12QJzWI4mJ"
      },
      "execution_count": null,
      "outputs": []
    },
    {
      "cell_type": "code",
      "source": [
        "def get_neg_overall():\n",
        "  overall_neg_values = []\n",
        "  for csv_file in overall_list:\n",
        "    csv_file = csv_file.drop(\"Unnamed: 0\", axis = 1)\n",
        "    csv_file = csv_file.drop(\"Date\", axis = 1)\n",
        "    csv_file_clean = csv_file['Tweet'].apply(message_cleaning)\n",
        "    csv_file = csv_file_clean.tolist()\n",
        "    csv_count = tweets_vectorizer.transform(csv_file)\n",
        "    csv_count.toarray()\n",
        "    csv_pred = NB_classifier.predict(csv_count)\n",
        "\n",
        "    num_neg = 0\n",
        "    count = 0\n",
        "    for i in csv_pred:\n",
        "      if i == 1:\n",
        "        num_neg = num_neg + 1\n",
        "      count = count + 1\n",
        "    #print(count)\n",
        "    #print(\"Overall num neg: \" + str(num_neg) + \"\\n\")\n",
        "    overall_neg_values.append(100 * (float(num_neg)/count))\n",
        "  \n",
        "  print(overall_neg_values)\n",
        "  return overall_neg_values"
      ],
      "metadata": {
        "id": "SkcVQySrhdNX"
      },
      "execution_count": null,
      "outputs": []
    },
    {
      "cell_type": "markdown",
      "source": [
        "### Graph"
      ],
      "metadata": {
        "id": "a8tRM1VTI_yZ"
      }
    },
    {
      "cell_type": "code",
      "source": [
        "data_df = {\"Months\":['Jan. \\'22', 'Feb. \\'22', 'March \\'22', 'April \\'22',\n",
        "                     'May \\'22', 'June \\'22', 'July \\'22', 'Aug. \\'22', 'Sept. \\'22',\n",
        "                     'Oct. \\'22', 'Nov. \\'22','Dec. \\'22', 'Jan. \\'23'],\n",
        "        \"Neg_wage\":get_neg_wage(),\n",
        "        \"Neg_meat\":get_neg_meat(),\n",
        "        \"Neg_rights\":get_neg_rights(),\n",
        "        \"Neg_trump\":get_neg_trump(),\n",
        "        \"Neg_gw\":get_neg_gw(),\n",
        "        \"Neg_overall\":get_neg_overall()}\n",
        "\n",
        "Data = pd.DataFrame(data_df)"
      ],
      "metadata": {
        "id": "B00nsp7-JBwa",
        "colab": {
          "base_uri": "https://localhost:8080/"
        },
        "outputId": "a0a0c5c1-3839-48a0-d8b4-34f39483d837"
      },
      "execution_count": null,
      "outputs": [
        {
          "output_type": "stream",
          "name": "stdout",
          "text": [
            "[3.09, 4.41, 3.83, 3.93, 2.9899999999999998, 3.16, 4.130000000000001, 3.16, 3.4299999999999997, 2.9899999999999998, 4.55, 3.18, 2.31]\n",
            "[0.5700000000000001, 0.69, 1.03, 0.64, 0.65, 0.67, 0.8200000000000001, 0.72, 0.63, 0.6, 0.72, 0.74, 0.72]\n",
            "[1.11, 1.7000000000000002, 1.31, 1.17, 1.08, 2.0500000000000003, 1.4200000000000002, 1.72, 1.78, 1.7000000000000002, 1.78, 1.58, 1.95]\n",
            "[17.630000000000003, 16.75, 66.49000000000001, 13.5, 13.5, 14.099999999999998, 28.22, 13.669999999999998, 15.690000000000001, 14.580000000000002, 13.19, 10.95, 14.48]\n",
            "[3.9899999999999998, 6.16, 4.17, 4.05, 4.1000000000000005, 5.53, 4.61, 4.3, 5.67, 4.67, 4.15, 4.25, 4.71]\n",
            "[0.05, 0.05, 0.06999999999999999, 0.01, 0.02, 1.25, 0.3445036016285625, 0.0, 1.7500000000000002, 0.0, 0.06999999999999999, 1.4200000000000002, 0.08]\n"
          ]
        }
      ]
    },
    {
      "cell_type": "code",
      "source": [
        "import matplotlib.pyplot as plt\n",
        "import matplotlib.ticker as mtick\n",
        "import seaborn as sns\n",
        "\n",
        "sns.set(font_scale=1.5)\n",
        "plt.figure(figsize=(20, 10))\n",
        "#plt.yscale('log')\n",
        "plt.ylim(-1, 30)\n",
        "\n",
        "plt.plot(Data['Months'], Data[['Neg_wage', 'Neg_meat', 'Neg_rights', 'Neg_trump',\n",
        "                               'Neg_gw']], marker = 'o', linewidth = 6,\n",
        "         markersize = 12, markerfacecolor = 'white', markeredgecolor = 'black')\n",
        "\n",
        "\n",
        "plt.plot(Data['Months'], Data[['Neg_overall']], marker = 'o', linewidth = 6,\n",
        "         markersize = 12, markerfacecolor = 'white', markeredgecolor = 'black',\n",
        "         linestyle = '--', color = 'black')\n",
        "\n",
        "plt.legend(['Wage', 'Meat', 'Rights', 'Trump', 'Global Warming', 'Overall'],\n",
        "           bbox_to_anchor=(1.02, 0.4), title='Keywords')\n",
        "\n",
        "plt.axhline(y=4, linestyle = 'dashdot', linewidth = 4, color = 'black')\n",
        "\n",
        "plt.grid(True)\n",
        "\n",
        "title = 'Hate Speech Trend for 5 Controversial Keywords over the Last Year'\n",
        "plt.title(title, size = 25)\n",
        "plt.xlabel('Months', size = 22)\n",
        "\n",
        "# Set y-axis formatter to show '%' character\n",
        "fmt = '%.0f%%'\n",
        "yticks = mtick.FormatStrFormatter(fmt)\n",
        "plt.gca().yaxis.set_major_formatter(yticks)\n",
        "plt.ylabel('Percentage of Negative Tweets', size = 22)\n",
        "\n",
        "plt.savefig(title, dpi = 500, bbox_inches = 'tight')\n",
        "plt.show()"
      ],
      "metadata": {
        "id": "ZmIbCZzBLC3q",
        "colab": {
          "base_uri": "https://localhost:8080/",
          "height": 648
        },
        "outputId": "3c6f46f6-fbc4-4b4d-ca89-a5b37e4b713e"
      },
      "execution_count": null,
      "outputs": [
        {
          "output_type": "display_data",
          "data": {
            "text/plain": [
              "<Figure size 1440x720 with 1 Axes>"
            ],
            "image/png": "[encoded data removed]"
          },
          "metadata": {}
        }
      ]
    },
    {
      "cell_type": "code",
      "source": [],
      "metadata": {
        "id": "2nSy0ltSovWT"
      },
      "execution_count": null,
      "outputs": []
    }
  ]
}