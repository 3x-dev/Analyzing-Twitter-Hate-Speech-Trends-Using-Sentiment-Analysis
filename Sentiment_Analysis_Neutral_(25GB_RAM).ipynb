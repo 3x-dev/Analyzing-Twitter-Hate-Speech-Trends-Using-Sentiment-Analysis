{
  "nbformat": 4,
  "nbformat_minor": 0,
  "metadata": {
    "colab": {
      "provenance": [],
      "machine_shape": "hm",
      "collapsed_sections": [
        "3ovXPhG_8Pz9",
        "zLpUQWMf8UeH",
        "7BgEUbaY1PtM",
        "GXoYDcWf7LJH",
        "27WL5JtHeAfR",
        "aYVoEEZQd9eh",
        "8Ik9WCGxtwaJ",
        "MDXOqx7utq5D"
      ],
      "include_colab_link": true
    },
    "kernelspec": {
      "name": "python3",
      "display_name": "Python 3"
    }
  },
  "cells": [
    {
      "cell_type": "markdown",
      "metadata": {
        "id": "view-in-github",
        "colab_type": "text"
      },
      "source": [
        "<a href=\"https://colab.research.google.com/github/aryansinghal10/Synopsys-2022-2023/blob/main/Sentiment_Analysis_Neutral_(25GB_RAM).ipynb\" target=\"_parent\"><img src=\"https://colab.research.google.com/assets/colab-badge.svg\" alt=\"Open In Colab\"/></a>"
      ]
    },
    {
      "cell_type": "markdown",
      "source": [
        "Context\n",
        "The objective of this task is to detect hate speech in tweets. For the sake of simplicity, we say a tweet contains hate speech if it has a racist or sexist sentiment associated with it. So, the task is to classify racist or sexist tweets from other tweets.\n",
        "\n",
        "Formally, given a training sample of tweets and labels, where label '1' denotes the tweet is racist/sexist and label '0' denotes the tweet is not racist/sexist, your objective is to predict the labels on the test dataset.\n",
        "\n",
        "Content\n",
        "Full tweet texts are provided with their labels for training data.\n",
        "Mentioned users' username is replaced with @user."
      ],
      "metadata": {
        "id": "CqRCWfhYmvDn"
      }
    },
    {
      "cell_type": "markdown",
      "metadata": {
        "id": "3ovXPhG_8Pz9"
      },
      "source": [
        "#Imports"
      ]
    },
    {
      "cell_type": "code",
      "execution_count": null,
      "metadata": {
        "id": "AVjUjgnk4JBQ",
        "colab": {
          "base_uri": "https://localhost:8080/"
        },
        "outputId": "9386400d-249b-42b4-d102-4ca08fa740ea"
      },
      "outputs": [
        {
          "output_type": "stream",
          "name": "stderr",
          "text": [
            "[nltk_data] Downloading collection 'popular'\n",
            "[nltk_data]    | \n",
            "[nltk_data]    | Downloading package cmudict to /root/nltk_data...\n",
            "[nltk_data]    |   Unzipping corpora/cmudict.zip.\n",
            "[nltk_data]    | Downloading package gazetteers to /root/nltk_data...\n",
            "[nltk_data]    |   Unzipping corpora/gazetteers.zip.\n",
            "[nltk_data]    | Downloading package genesis to /root/nltk_data...\n",
            "[nltk_data]    |   Unzipping corpora/genesis.zip.\n",
            "[nltk_data]    | Downloading package gutenberg to /root/nltk_data...\n",
            "[nltk_data]    |   Unzipping corpora/gutenberg.zip.\n",
            "[nltk_data]    | Downloading package inaugural to /root/nltk_data...\n",
            "[nltk_data]    |   Unzipping corpora/inaugural.zip.\n",
            "[nltk_data]    | Downloading package movie_reviews to\n",
            "[nltk_data]    |     /root/nltk_data...\n",
            "[nltk_data]    |   Unzipping corpora/movie_reviews.zip.\n",
            "[nltk_data]    | Downloading package names to /root/nltk_data...\n",
            "[nltk_data]    |   Unzipping corpora/names.zip.\n",
            "[nltk_data]    | Downloading package shakespeare to /root/nltk_data...\n",
            "[nltk_data]    |   Unzipping corpora/shakespeare.zip.\n",
            "[nltk_data]    | Downloading package stopwords to /root/nltk_data...\n",
            "[nltk_data]    |   Unzipping corpora/stopwords.zip.\n",
            "[nltk_data]    | Downloading package treebank to /root/nltk_data...\n",
            "[nltk_data]    |   Unzipping corpora/treebank.zip.\n",
            "[nltk_data]    | Downloading package twitter_samples to\n",
            "[nltk_data]    |     /root/nltk_data...\n",
            "[nltk_data]    |   Unzipping corpora/twitter_samples.zip.\n",
            "[nltk_data]    | Downloading package omw to /root/nltk_data...\n",
            "[nltk_data]    | Downloading package omw-1.4 to /root/nltk_data...\n",
            "[nltk_data]    | Downloading package wordnet to /root/nltk_data...\n",
            "[nltk_data]    | Downloading package wordnet2021 to /root/nltk_data...\n",
            "[nltk_data]    | Downloading package wordnet31 to /root/nltk_data...\n",
            "[nltk_data]    | Downloading package wordnet_ic to /root/nltk_data...\n",
            "[nltk_data]    |   Unzipping corpora/wordnet_ic.zip.\n",
            "[nltk_data]    | Downloading package words to /root/nltk_data...\n",
            "[nltk_data]    |   Unzipping corpora/words.zip.\n",
            "[nltk_data]    | Downloading package maxent_ne_chunker to\n",
            "[nltk_data]    |     /root/nltk_data...\n",
            "[nltk_data]    |   Unzipping chunkers/maxent_ne_chunker.zip.\n",
            "[nltk_data]    | Downloading package punkt to /root/nltk_data...\n",
            "[nltk_data]    |   Unzipping tokenizers/punkt.zip.\n",
            "[nltk_data]    | Downloading package snowball_data to\n",
            "[nltk_data]    |     /root/nltk_data...\n",
            "[nltk_data]    | Downloading package averaged_perceptron_tagger to\n",
            "[nltk_data]    |     /root/nltk_data...\n",
            "[nltk_data]    |   Unzipping taggers/averaged_perceptron_tagger.zip.\n",
            "[nltk_data]    | \n",
            "[nltk_data]  Done downloading collection popular\n"
          ]
        }
      ],
      "source": [
        "import numpy as np # linear algebra\n",
        "import pandas as pd # data processing, CSV file I/O (e.g. pd.read_csv)\n",
        "import seaborn as sns #for visualization\n",
        "import matplotlib.pyplot as plt #for visualization\n",
        "import string\n",
        "from datetime import datetime, timedelta\n",
        "\n",
        "from wordcloud import WordCloud, STOPWORDS, ImageColorGenerator # WordCloud\n",
        "from PIL import Image\n",
        "\n",
        "import nltk\n",
        "nltk.download('popular')\n",
        "from nltk.corpus import stopwords\n",
        "\n",
        "from sklearn.model_selection import train_test_split\n",
        "from sklearn.feature_extraction.text import CountVectorizer\n",
        "from sklearn.naive_bayes import MultinomialNB #for discrete values\n",
        "from sklearn.metrics import confusion_matrix, classification_report, accuracy_score"
      ]
    },
    {
      "cell_type": "markdown",
      "metadata": {
        "id": "zLpUQWMf8UeH"
      },
      "source": [
        "#Loading the Data"
      ]
    },
    {
      "cell_type": "code",
      "execution_count": null,
      "metadata": {
        "colab": {
          "base_uri": "https://localhost:8080/"
        },
        "id": "i0uNlG_R7_mM",
        "outputId": "21d576d3-4c17-4e0b-8ba1-aad62ee82cd3"
      },
      "outputs": [
        {
          "output_type": "stream",
          "name": "stdout",
          "text": [
            "Mounted at /content/drive\n"
          ]
        }
      ],
      "source": [
        "from google.colab import drive\n",
        "drive.mount('/content/drive', force_remount = True)"
      ]
    },
    {
      "cell_type": "code",
      "execution_count": null,
      "metadata": {
        "id": "eriDGkVc8Bgh"
      },
      "outputs": [],
      "source": [
        "train_set = pd.read_csv(\"/content/drive/MyDrive/SynopsysTwitter/train.csv\")\n",
        "test_set = pd.read_csv(\"/content/drive/MyDrive/SynopsysTwitter/test.csv\")"
      ]
    },
    {
      "cell_type": "markdown",
      "metadata": {
        "id": "7BgEUbaY1PtM"
      },
      "source": [
        "#Cleaning the Data"
      ]
    },
    {
      "cell_type": "code",
      "execution_count": null,
      "metadata": {
        "colab": {
          "base_uri": "https://localhost:8080/"
        },
        "id": "aUiIW6sh1Yz-",
        "outputId": "5b58e02e-4267-4b2d-e76f-a6690c2156bb"
      },
      "outputs": [
        {
          "output_type": "execute_result",
          "data": {
            "text/plain": [
              "(31962, 3)"
            ]
          },
          "metadata": {},
          "execution_count": 4
        }
      ],
      "source": [
        "train_set.shape"
      ]
    },
    {
      "cell_type": "code",
      "execution_count": null,
      "metadata": {
        "colab": {
          "base_uri": "https://localhost:8080/"
        },
        "id": "S_6CFEgq2lRa",
        "outputId": "69cdd527-9ea1-463d-86e5-4ac5dbb6b32c"
      },
      "outputs": [
        {
          "output_type": "execute_result",
          "data": {
            "text/plain": [
              "(31962, 3)"
            ]
          },
          "metadata": {},
          "execution_count": 5
        }
      ],
      "source": [
        "train_set.drop_duplicates(inplace = True)\n",
        "train_set.shape"
      ]
    },
    {
      "cell_type": "code",
      "execution_count": null,
      "metadata": {
        "colab": {
          "base_uri": "https://localhost:8080/"
        },
        "id": "kzULn-be2lsm",
        "outputId": "43010c4b-fb18-48d1-a240-301a5e4cb623"
      },
      "outputs": [
        {
          "output_type": "execute_result",
          "data": {
            "text/plain": [
              "id       0\n",
              "label    0\n",
              "tweet    0\n",
              "dtype: int64"
            ]
          },
          "metadata": {},
          "execution_count": 6
        }
      ],
      "source": [
        "train_set.isnull().sum()"
      ]
    },
    {
      "cell_type": "code",
      "execution_count": null,
      "metadata": {
        "colab": {
          "base_uri": "https://localhost:8080/"
        },
        "id": "dLJ2aBkp2ozT",
        "outputId": "91a7da66-7474-4781-84b3-6c5e846bf33a"
      },
      "outputs": [
        {
          "output_type": "execute_result",
          "data": {
            "text/plain": [
              "(17197, 2)"
            ]
          },
          "metadata": {},
          "execution_count": 7
        }
      ],
      "source": [
        "test_set.shape"
      ]
    },
    {
      "cell_type": "code",
      "execution_count": null,
      "metadata": {
        "colab": {
          "base_uri": "https://localhost:8080/"
        },
        "id": "mgaaFiDM2rR_",
        "outputId": "0f47d1a9-003a-4dae-a444-911dd71cf31b"
      },
      "outputs": [
        {
          "output_type": "execute_result",
          "data": {
            "text/plain": [
              "(17197, 2)"
            ]
          },
          "metadata": {},
          "execution_count": 8
        }
      ],
      "source": [
        "test_set.drop_duplicates(inplace = True)\n",
        "test_set.shape"
      ]
    },
    {
      "cell_type": "code",
      "execution_count": null,
      "metadata": {
        "colab": {
          "base_uri": "https://localhost:8080/"
        },
        "id": "dhiX6qCH2sfZ",
        "outputId": "c7dd6627-634e-414d-84f8-475b444e3952"
      },
      "outputs": [
        {
          "output_type": "execute_result",
          "data": {
            "text/plain": [
              "id       0\n",
              "tweet    0\n",
              "dtype: int64"
            ]
          },
          "metadata": {},
          "execution_count": 9
        }
      ],
      "source": [
        "test_set.isnull().sum()"
      ]
    },
    {
      "cell_type": "code",
      "execution_count": null,
      "metadata": {
        "colab": {
          "base_uri": "https://localhost:8080/"
        },
        "id": "m3KjrEPR2tdq",
        "outputId": "8c34e293-2e7a-4466-dfcf-e3d2b055977c"
      },
      "outputs": [
        {
          "output_type": "stream",
          "name": "stdout",
          "text": [
            "Train set shape: (31962, 3) and test set shape: (17197, 2)\n"
          ]
        }
      ],
      "source": [
        "print(\"Train set shape: {} and test set shape: {}\".format(train_set.shape, test_set.shape))"
      ]
    },
    {
      "cell_type": "code",
      "execution_count": null,
      "metadata": {
        "colab": {
          "base_uri": "https://localhost:8080/"
        },
        "id": "11qm9Zct4sRJ",
        "outputId": "5e203541-39e6-4f75-f6ae-96f6ec021eb7"
      },
      "outputs": [
        {
          "output_type": "execute_result",
          "data": {
            "text/plain": [
              "'!\"#$%&\\'()*+,-./:;<=>?@[\\\\]^_`{|}~'"
            ],
            "application/vnd.google.colaboratory.intrinsic+json": {
              "type": "string"
            }
          },
          "metadata": {},
          "execution_count": 11
        }
      ],
      "source": [
        "string.punctuation"
      ]
    },
    {
      "cell_type": "code",
      "execution_count": null,
      "metadata": {
        "id": "94ra1alU30ez"
      },
      "outputs": [],
      "source": [
        "st = stopwords.words('english')\n",
        "st.append(\"and\")"
      ]
    },
    {
      "cell_type": "markdown",
      "metadata": {
        "id": "GXoYDcWf7LJH"
      },
      "source": [
        "#Building Vector Model using CountVectorizer"
      ]
    },
    {
      "cell_type": "markdown",
      "source": [
        "##Further Cleaning"
      ],
      "metadata": {
        "id": "27WL5JtHeAfR"
      }
    },
    {
      "cell_type": "markdown",
      "source": [
        "Testing with sample list"
      ],
      "metadata": {
        "id": "5WbGvu3XWso7"
      }
    },
    {
      "cell_type": "code",
      "execution_count": null,
      "metadata": {
        "id": "yGx4gbIX5lsN"
      },
      "outputs": [],
      "source": [
        "sample_data = [\"This is my first paper\", \"This is the second document\", \"here is the third thi one\"]"
      ]
    },
    {
      "cell_type": "code",
      "execution_count": null,
      "metadata": {
        "id": "7dwp6_Tg5ns6"
      },
      "outputs": [],
      "source": [
        "vectorizer = CountVectorizer()"
      ]
    },
    {
      "cell_type": "code",
      "execution_count": null,
      "metadata": {
        "id": "lv_Ls1ku5sWS"
      },
      "outputs": [],
      "source": [
        "X = vectorizer.fit_transform(sample_data)"
      ]
    },
    {
      "cell_type": "code",
      "execution_count": null,
      "metadata": {
        "id": "6iXHdBo_5tpl",
        "colab": {
          "base_uri": "https://localhost:8080/"
        },
        "outputId": "7bd6647b-f783-475f-d1e4-1d64196c943d"
      },
      "outputs": [
        {
          "output_type": "execute_result",
          "data": {
            "text/plain": [
              "array(['document', 'first', 'here', 'is', 'my', 'one', 'paper', 'second',\n",
              "       'the', 'thi', 'third', 'this'], dtype=object)"
            ]
          },
          "metadata": {},
          "execution_count": 16
        }
      ],
      "source": [
        "vectorizer.get_feature_names_out()"
      ]
    },
    {
      "cell_type": "code",
      "execution_count": null,
      "metadata": {
        "id": "yd-mK8d35yvv",
        "colab": {
          "base_uri": "https://localhost:8080/"
        },
        "outputId": "0f479414-ac4f-4712-91bc-c1927f926b2a"
      },
      "outputs": [
        {
          "output_type": "execute_result",
          "data": {
            "text/plain": [
              "array([[0, 1, 0, 1, 1, 0, 1, 0, 0, 0, 0, 1],\n",
              "       [1, 0, 0, 1, 0, 0, 0, 1, 1, 0, 0, 1],\n",
              "       [0, 0, 1, 1, 0, 1, 0, 0, 1, 1, 1, 0]])"
            ]
          },
          "metadata": {},
          "execution_count": 17
        }
      ],
      "source": [
        "X.toarray()"
      ]
    },
    {
      "cell_type": "markdown",
      "metadata": {
        "id": "-WALxPlJ54ZA"
      },
      "source": [
        "Creating a pipeline which removes punctuation, stopwords and peforms tokenization"
      ]
    },
    {
      "cell_type": "code",
      "execution_count": null,
      "metadata": {
        "id": "SZpS1r0u51U7"
      },
      "outputs": [],
      "source": [
        "def message_cleaning(message):\n",
        "  message = str(message)\n",
        "\n",
        "  test_punc_removed = [str(char) for char in message if str(char) not in string.punctuation]\n",
        "  test_punc_removed = ''.join(test_punc_removed)\n",
        "  test_punc_st_removed = []\n",
        "  for char in test_punc_removed.split():\n",
        "    if char.lower() not in st:\n",
        "      test_punc_st_removed.append(char)\n",
        "  test_punc_st_removed = \" \".join(test_punc_st_removed)  \n",
        "  return test_punc_st_removed"
      ]
    },
    {
      "cell_type": "code",
      "execution_count": null,
      "metadata": {
        "colab": {
          "base_uri": "https://localhost:8080/"
        },
        "id": "-cccHEj96A63",
        "outputId": "f366e5b1-50f9-46d0-de3d-f60ef616859d"
      },
      "outputs": [
        {
          "output_type": "execute_result",
          "data": {
            "text/plain": [
              "'Goblin Ninja win 28000'"
            ],
            "application/vnd.google.colaboratory.intrinsic+json": {
              "type": "string"
            }
          },
          "metadata": {},
          "execution_count": 19
        }
      ],
      "source": [
        "message_cleaning(\"Goblin and Ninja fOR thE win!! .28.000\")"
      ]
    },
    {
      "cell_type": "code",
      "execution_count": null,
      "metadata": {
        "id": "7SFeeU5F6DWh"
      },
      "outputs": [],
      "source": [
        "train_set_clean = train_set['tweet'].apply(message_cleaning)"
      ]
    },
    {
      "cell_type": "code",
      "execution_count": null,
      "metadata": {
        "colab": {
          "base_uri": "https://localhost:8080/"
        },
        "id": "o9h700f96FCZ",
        "outputId": "1ce1b7af-5cc2-46a2-8097-e7a229091b28"
      },
      "outputs": [
        {
          "output_type": "execute_result",
          "data": {
            "text/plain": [
              "\"the next school year is the year for exams.ð\\x9f\\x98¯ can't think about that ð\\x9f\\x98\\xad #school #exams   #hate #imagine #actorslife #revolutionschool #girl\""
            ],
            "application/vnd.google.colaboratory.intrinsic+json": {
              "type": "string"
            }
          },
          "metadata": {},
          "execution_count": 21
        }
      ],
      "source": [
        "train_set['tweet'][7]"
      ]
    },
    {
      "cell_type": "code",
      "execution_count": null,
      "metadata": {
        "colab": {
          "base_uri": "https://localhost:8080/"
        },
        "id": "ThqtMSrs6NHy",
        "outputId": "cc8984e9-9b92-48ee-f743-459b70d01fee"
      },
      "outputs": [
        {
          "output_type": "execute_result",
          "data": {
            "text/plain": [
              "'next school year year examsð\\x9f\\x98¯ cant think ð\\x9f\\x98\\xad school exams hate imagine actorslife revolutionschool girl'"
            ],
            "application/vnd.google.colaboratory.intrinsic+json": {
              "type": "string"
            }
          },
          "metadata": {},
          "execution_count": 22
        }
      ],
      "source": [
        "train_set_clean[7]"
      ]
    },
    {
      "cell_type": "markdown",
      "source": [
        "## Count Vectorizer"
      ],
      "metadata": {
        "id": "aYVoEEZQd9eh"
      }
    },
    {
      "cell_type": "code",
      "execution_count": null,
      "metadata": {
        "id": "cyCir5ab6QnD"
      },
      "outputs": [],
      "source": [
        "data = train_set_clean.tolist()"
      ]
    },
    {
      "cell_type": "code",
      "source": [
        "tweets_vectorizer = CountVectorizer()"
      ],
      "metadata": {
        "id": "m-i2r157UEh2"
      },
      "execution_count": null,
      "outputs": []
    },
    {
      "cell_type": "code",
      "source": [
        "tweets_countvectorizer = tweets_vectorizer.fit_transform(data).toarray()"
      ],
      "metadata": {
        "id": "tCh3NFiPUGGI"
      },
      "execution_count": null,
      "outputs": []
    },
    {
      "cell_type": "code",
      "execution_count": null,
      "metadata": {
        "colab": {
          "base_uri": "https://localhost:8080/"
        },
        "id": "xoY0KICN6yyF",
        "outputId": "ec89ba7a-f3fe-432b-a4b5-04b75efb7d11"
      },
      "outputs": [
        {
          "output_type": "execute_result",
          "data": {
            "text/plain": [
              "(31962, 43671)"
            ]
          },
          "metadata": {},
          "execution_count": 26
        }
      ],
      "source": [
        "tweets_countvectorizer.shape"
      ]
    },
    {
      "cell_type": "code",
      "execution_count": null,
      "metadata": {
        "id": "EvKfNZA460vh"
      },
      "outputs": [],
      "source": [
        "X = tweets_countvectorizer\n",
        "y = train_set['label']"
      ]
    },
    {
      "cell_type": "markdown",
      "metadata": {
        "id": "hvDaa97v7bSo"
      },
      "source": [
        "##Using Naive Bayes to Classify"
      ]
    },
    {
      "cell_type": "code",
      "execution_count": null,
      "metadata": {
        "colab": {
          "base_uri": "https://localhost:8080/"
        },
        "id": "2wj9hj7p7U6i",
        "outputId": "a6ea7453-9976-4bce-baa5-c65e1c498f57"
      },
      "outputs": [
        {
          "output_type": "execute_result",
          "data": {
            "text/plain": [
              "(31962, 43671)"
            ]
          },
          "metadata": {},
          "execution_count": 28
        }
      ],
      "source": [
        "X.shape"
      ]
    },
    {
      "cell_type": "code",
      "execution_count": null,
      "metadata": {
        "colab": {
          "base_uri": "https://localhost:8080/"
        },
        "id": "7rnKrm9S7eFb",
        "outputId": "ec473ff2-fcb2-4c5a-97f9-6e37b3bc3f9d"
      },
      "outputs": [
        {
          "output_type": "execute_result",
          "data": {
            "text/plain": [
              "(31962,)"
            ]
          },
          "metadata": {},
          "execution_count": 29
        }
      ],
      "source": [
        "y.shape"
      ]
    },
    {
      "cell_type": "code",
      "execution_count": null,
      "metadata": {
        "id": "ND8LX80j7kMV"
      },
      "outputs": [],
      "source": [
        "X_train, X_test, y_train, y_test = train_test_split(X, y, test_size = 0.2)"
      ]
    },
    {
      "cell_type": "code",
      "execution_count": null,
      "metadata": {
        "id": "pzvYkzeF7n0V"
      },
      "outputs": [],
      "source": [
        "NB_classifier = MultinomialNB()"
      ]
    },
    {
      "cell_type": "code",
      "execution_count": null,
      "metadata": {
        "id": "2I-1EYv77t6o",
        "colab": {
          "base_uri": "https://localhost:8080/"
        },
        "outputId": "de6d9ef9-45ec-4d1a-c0dc-e680b4648bd3"
      },
      "outputs": [
        {
          "output_type": "execute_result",
          "data": {
            "text/plain": [
              "MultinomialNB()"
            ],
            "text/html": [
              "<style>#sk-container-id-1 {color: black;background-color: white;}#sk-container-id-1 pre{padding: 0;}#sk-container-id-1 div.sk-toggleable {background-color: white;}#sk-container-id-1 label.sk-toggleable__label {cursor: pointer;display: block;width: 100%;margin-bottom: 0;padding: 0.3em;box-sizing: border-box;text-align: center;}#sk-container-id-1 label.sk-toggleable__label-arrow:before {content: \"▸\";float: left;margin-right: 0.25em;color: #696969;}#sk-container-id-1 label.sk-toggleable__label-arrow:hover:before {color: black;}#sk-container-id-1 div.sk-estimator:hover label.sk-toggleable__label-arrow:before {color: black;}#sk-container-id-1 div.sk-toggleable__content {max-height: 0;max-width: 0;overflow: hidden;text-align: left;background-color: #f0f8ff;}#sk-container-id-1 div.sk-toggleable__content pre {margin: 0.2em;color: black;border-radius: 0.25em;background-color: #f0f8ff;}#sk-container-id-1 input.sk-toggleable__control:checked~div.sk-toggleable__content {max-height: 200px;max-width: 100%;overflow: auto;}#sk-container-id-1 input.sk-toggleable__control:checked~label.sk-toggleable__label-arrow:before {content: \"▾\";}#sk-container-id-1 div.sk-estimator input.sk-toggleable__control:checked~label.sk-toggleable__label {background-color: #d4ebff;}#sk-container-id-1 div.sk-label input.sk-toggleable__control:checked~label.sk-toggleable__label {background-color: #d4ebff;}#sk-container-id-1 input.sk-hidden--visually {border: 0;clip: rect(1px 1px 1px 1px);clip: rect(1px, 1px, 1px, 1px);height: 1px;margin: -1px;overflow: hidden;padding: 0;position: absolute;width: 1px;}#sk-container-id-1 div.sk-estimator {font-family: monospace;background-color: #f0f8ff;border: 1px dotted black;border-radius: 0.25em;box-sizing: border-box;margin-bottom: 0.5em;}#sk-container-id-1 div.sk-estimator:hover {background-color: #d4ebff;}#sk-container-id-1 div.sk-parallel-item::after {content: \"\";width: 100%;border-bottom: 1px solid gray;flex-grow: 1;}#sk-container-id-1 div.sk-label:hover label.sk-toggleable__label {background-color: #d4ebff;}#sk-container-id-1 div.sk-serial::before {content: \"\";position: absolute;border-left: 1px solid gray;box-sizing: border-box;top: 0;bottom: 0;left: 50%;z-index: 0;}#sk-container-id-1 div.sk-serial {display: flex;flex-direction: column;align-items: center;background-color: white;padding-right: 0.2em;padding-left: 0.2em;position: relative;}#sk-container-id-1 div.sk-item {position: relative;z-index: 1;}#sk-container-id-1 div.sk-parallel {display: flex;align-items: stretch;justify-content: center;background-color: white;position: relative;}#sk-container-id-1 div.sk-item::before, #sk-container-id-1 div.sk-parallel-item::before {content: \"\";position: absolute;border-left: 1px solid gray;box-sizing: border-box;top: 0;bottom: 0;left: 50%;z-index: -1;}#sk-container-id-1 div.sk-parallel-item {display: flex;flex-direction: column;z-index: 1;position: relative;background-color: white;}#sk-container-id-1 div.sk-parallel-item:first-child::after {align-self: flex-end;width: 50%;}#sk-container-id-1 div.sk-parallel-item:last-child::after {align-self: flex-start;width: 50%;}#sk-container-id-1 div.sk-parallel-item:only-child::after {width: 0;}#sk-container-id-1 div.sk-dashed-wrapped {border: 1px dashed gray;margin: 0 0.4em 0.5em 0.4em;box-sizing: border-box;padding-bottom: 0.4em;background-color: white;}#sk-container-id-1 div.sk-label label {font-family: monospace;font-weight: bold;display: inline-block;line-height: 1.2em;}#sk-container-id-1 div.sk-label-container {text-align: center;}#sk-container-id-1 div.sk-container {/* jupyter's `normalize.less` sets `[hidden] { display: none; }` but bootstrap.min.css set `[hidden] { display: none !important; }` so we also need the `!important` here to be able to override the default hidden behavior on the sphinx rendered scikit-learn.org. See: https://github.com/scikit-learn/scikit-learn/issues/21755 */display: inline-block !important;position: relative;}#sk-container-id-1 div.sk-text-repr-fallback {display: none;}</style><div id=\"sk-container-id-1\" class=\"sk-top-container\"><div class=\"sk-text-repr-fallback\"><pre>MultinomialNB()</pre><b>In a Jupyter environment, please rerun this cell to show the HTML representation or trust the notebook. <br />On GitHub, the HTML representation is unable to render, please try loading this page with nbviewer.org.</b></div><div class=\"sk-container\" hidden><div class=\"sk-item\"><div class=\"sk-estimator sk-toggleable\"><input class=\"sk-toggleable__control sk-hidden--visually\" id=\"sk-estimator-id-1\" type=\"checkbox\" checked><label for=\"sk-estimator-id-1\" class=\"sk-toggleable__label sk-toggleable__label-arrow\">MultinomialNB</label><div class=\"sk-toggleable__content\"><pre>MultinomialNB()</pre></div></div></div></div></div>"
            ]
          },
          "metadata": {},
          "execution_count": 32
        }
      ],
      "source": [
        "NB_classifier.fit(X_train, y_train)"
      ]
    },
    {
      "cell_type": "code",
      "execution_count": null,
      "metadata": {
        "id": "n-AGE_S_70kb"
      },
      "outputs": [],
      "source": [
        "y_pred = NB_classifier.predict(X_test)"
      ]
    },
    {
      "cell_type": "code",
      "execution_count": null,
      "metadata": {
        "id": "2Mm9nJl-74A_",
        "colab": {
          "base_uri": "https://localhost:8080/"
        },
        "outputId": "e8518b55-a832-44ea-9ff3-1b9528284c00"
      },
      "outputs": [
        {
          "output_type": "execute_result",
          "data": {
            "text/plain": [
              "array([[5795,  177],\n",
              "       [ 182,  239]])"
            ]
          },
          "metadata": {},
          "execution_count": 34
        }
      ],
      "source": [
        "cm = confusion_matrix(y_test, y_pred)\n",
        "cm"
      ]
    },
    {
      "cell_type": "code",
      "execution_count": null,
      "metadata": {
        "id": "Q6pvFKJm7_-2",
        "colab": {
          "base_uri": "https://localhost:8080/"
        },
        "outputId": "d316af76-4be9-4e96-bf3b-c4e74870254c"
      },
      "outputs": [
        {
          "output_type": "display_data",
          "data": {
            "text/plain": [
              "<Figure size 432x288 with 2 Axes>"
            ],
            "image/png": "[encoded data removed]"
          },
          "metadata": {
            "needs_background": "light"
          }
        }
      ],
      "source": [
        "linewidths = 2\n",
        "linecolor = \"yellow\"\n",
        "\n",
        "sns.heatmap(cm, linewidths=linewidths, linecolor=linecolor, annot = True)\n",
        "plt.savefig(\"matrix\", dpi = 1000, bbox_inches = 'tight')"
      ]
    },
    {
      "cell_type": "code",
      "execution_count": null,
      "metadata": {
        "id": "SOQXGdKu8B-I",
        "colab": {
          "base_uri": "https://localhost:8080/"
        },
        "outputId": "b7f6d450-a32d-40d2-c826-2e98f06a8de9"
      },
      "outputs": [
        {
          "output_type": "stream",
          "name": "stdout",
          "text": [
            "94.38448302831222\n"
          ]
        }
      ],
      "source": [
        "print(accuracy_score(y_test, y_pred) * 100)"
      ]
    },
    {
      "cell_type": "code",
      "execution_count": null,
      "metadata": {
        "id": "5LznvTrQ8Erx",
        "colab": {
          "base_uri": "https://localhost:8080/"
        },
        "outputId": "e732c6a4-2639-4920-cc99-68bd95cae9a0"
      },
      "outputs": [
        {
          "output_type": "stream",
          "name": "stdout",
          "text": [
            "              precision    recall  f1-score   support\n",
            "\n",
            "           0       0.97      0.97      0.97      5972\n",
            "           1       0.57      0.57      0.57       421\n",
            "\n",
            "    accuracy                           0.94      6393\n",
            "   macro avg       0.77      0.77      0.77      6393\n",
            "weighted avg       0.94      0.94      0.94      6393\n",
            "\n"
          ]
        }
      ],
      "source": [
        "print(classification_report(y_test, y_pred))"
      ]
    },
    {
      "cell_type": "markdown",
      "source": [
        "#Data Reading"
      ],
      "metadata": {
        "id": "Wtp4ypnsmRsP"
      }
    },
    {
      "cell_type": "markdown",
      "source": [
        "## Nuetral"
      ],
      "metadata": {
        "id": "MDXOqx7utq5D"
      }
    },
    {
      "cell_type": "code",
      "source": [
        "path = \"/content/drive/MyDrive/SynopsysTwitter/data/\"\n",
        "finance = \"/finance/\"\n",
        "food = \"/food/\"\n",
        "humanities = \"/humanities/\"\n",
        "health = \"/health/\"\n",
        "weather = \"/weather/\"\n",
        "\n",
        "neutral_list = []\n",
        "\n",
        "neutral_list.append(pd.read_csv(path + finance + \"finance_2022-01-01_10000_N.csv\", nrows = 10000))\n",
        "neutral_list.append(pd.read_csv(path + finance + \"finance_2022-02-01_10000_N.csv\", nrows = 10000))\n",
        "neutral_list.append(pd.read_csv(path + finance + \"finance_2022-03-01_10000_N.csv\", nrows = 10000))\n",
        "neutral_list.append(pd.read_csv(path + finance + \"finance_2022-04-01_10000_N.csv\", nrows = 10000))\n",
        "neutral_list.append(pd.read_csv(path + finance + \"finance_2022-05-01_10000_N.csv\", nrows = 10000))\n",
        "neutral_list.append(pd.read_csv(path + finance + \"finance_2022-06-01_10000_N.csv\", nrows = 10000))\n",
        "neutral_list.append(pd.read_csv(path + finance + \"finance_2022-07-01_10000_N.csv\", nrows = 10000))\n",
        "neutral_list.append(pd.read_csv(path + finance + \"finance_2022-08-01_10000_N.csv\", nrows = 10000))\n",
        "neutral_list.append(pd.read_csv(path + finance + \"finance_2022-09-01_10000_N.csv\", nrows = 10000))\n",
        "neutral_list.append(pd.read_csv(path + finance + \"finance_2022-10-01_10000_N.csv\", nrows = 10000))\n",
        "neutral_list.append(pd.read_csv(path + finance + \"finance_2022-11-01_10000_N.csv\", nrows = 10000))\n",
        "neutral_list.append(pd.read_csv(path + finance + \"finance_2022-12-01_10000_N.csv\", nrows = 10000))\n",
        "neutral_list.append(pd.read_csv(path + finance + \"finance_2023-01-01_10000_N.csv\", nrows = 10000))\n",
        "\n",
        "neutral_list.append(pd.read_csv(path + food + \"food_2022-01-01_10000_N.csv\", nrows = 10000))\n",
        "neutral_list.append(pd.read_csv(path + food + \"food_2022-02-01_10000_N.csv\", nrows = 10000))\n",
        "neutral_list.append(pd.read_csv(path + food + \"food_2022-03-01_10000_N.csv\", nrows = 10000))\n",
        "neutral_list.append(pd.read_csv(path + food + \"food_2022-04-01_10000_N.csv\", nrows = 10000))\n",
        "neutral_list.append(pd.read_csv(path + food + \"food_2022-05-01_10000_N.csv\", nrows = 10000))\n",
        "neutral_list.append(pd.read_csv(path + food + \"food_2022-06-01_10000_N.csv\", nrows = 10000))\n",
        "neutral_list.append(pd.read_csv(path + food + \"food_2022-07-01_10000_N.csv\", nrows = 10000))\n",
        "neutral_list.append(pd.read_csv(path + food + \"food_2022-08-01_10000_N.csv\", nrows = 10000))\n",
        "neutral_list.append(pd.read_csv(path + food + \"food_2022-09-01_10000_N.csv\", nrows = 10000))\n",
        "neutral_list.append(pd.read_csv(path + food + \"food_2022-10-01_10000_N.csv\", nrows = 10000))\n",
        "neutral_list.append(pd.read_csv(path + food + \"food_2022-11-01_10000_N.csv\", nrows = 10000))\n",
        "neutral_list.append(pd.read_csv(path + food + \"food_2022-12-01_10000_N.csv\", nrows = 10000))\n",
        "neutral_list.append(pd.read_csv(path + food + \"food_2023-01-01_10000_N.csv\", nrows = 10000))\n",
        "\n",
        "neutral_list.append(pd.read_csv(path + humanities + \"humanities_2022-01-01_10000_N.csv\", nrows = 10000))\n",
        "neutral_list.append(pd.read_csv(path + humanities + \"humanities_2022-02-01_10000_N.csv\", nrows = 10000))\n",
        "neutral_list.append(pd.read_csv(path + humanities + \"humanities_2022-03-01_10000_N.csv\", nrows = 10000))\n",
        "neutral_list.append(pd.read_csv(path + humanities + \"humanities_2022-04-01_10000_N.csv\", nrows = 10000))\n",
        "neutral_list.append(pd.read_csv(path + humanities + \"humanities_2022-05-01_10000_N.csv\", nrows = 10000))\n",
        "neutral_list.append(pd.read_csv(path + humanities + \"humanities_2022-06-01_10000_N.csv\", nrows = 10000))\n",
        "neutral_list.append(pd.read_csv(path + humanities + \"humanities_2022-07-01_10000_N.csv\", nrows = 10000))\n",
        "neutral_list.append(pd.read_csv(path + humanities + \"humanities_2022-08-01_10000_N.csv\", nrows = 10000))\n",
        "neutral_list.append(pd.read_csv(path + humanities + \"humanities_2022-09-01_10000_N.csv\", nrows = 10000))\n",
        "neutral_list.append(pd.read_csv(path + humanities + \"humanities_2022-10-01_10000_N.csv\", nrows = 10000))\n",
        "neutral_list.append(pd.read_csv(path + humanities + \"humanities_2022-11-01_10000_N.csv\", nrows = 10000))\n",
        "neutral_list.append(pd.read_csv(path + humanities + \"humanities_2022-12-01_10000_N.csv\", nrows = 10000))\n",
        "neutral_list.append(pd.read_csv(path + humanities + \"humanities_2023-01-01_10000_N.csv\", nrows = 10000))\n",
        "\n",
        "neutral_list.append(pd.read_csv(path + health + \"health_2022-01-01_10000_N.csv\", nrows = 10000))\n",
        "neutral_list.append(pd.read_csv(path + health + \"health_2022-02-01_10000_N.csv\", nrows = 10000))\n",
        "neutral_list.append(pd.read_csv(path + health + \"health_2022-03-01_10000_N.csv\", nrows = 10000))\n",
        "neutral_list.append(pd.read_csv(path + health + \"health_2022-04-01_10000_N.csv\", nrows = 10000))\n",
        "neutral_list.append(pd.read_csv(path + health + \"health_2022-05-01_10000_N.csv\", nrows = 10000))\n",
        "neutral_list.append(pd.read_csv(path + health + \"health_2022-06-01_10000_N.csv\", nrows = 10000))\n",
        "neutral_list.append(pd.read_csv(path + health + \"health_2022-07-01_10000_N.csv\", nrows = 10000))\n",
        "neutral_list.append(pd.read_csv(path + health + \"health_2022-08-01_10000_N.csv\", nrows = 10000))\n",
        "neutral_list.append(pd.read_csv(path + health + \"health_2022-09-01_10000_N.csv\", nrows = 10000))\n",
        "neutral_list.append(pd.read_csv(path + health + \"health_2022-10-01_10000_N.csv\", nrows = 10000))\n",
        "neutral_list.append(pd.read_csv(path + health + \"health_2022-11-01_10000_N.csv\", nrows = 10000))\n",
        "neutral_list.append(pd.read_csv(path + health + \"health_2022-12-01_10000_N.csv\", nrows = 10000))\n",
        "neutral_list.append(pd.read_csv(path + health + \"health_2023-01-01_10000_N.csv\", nrows = 10000))\n",
        "\n",
        "neutral_list.append(pd.read_csv(path + weather + \"weather_2022-01-01_10000_N.csv\", nrows = 10000))\n",
        "neutral_list.append(pd.read_csv(path + weather + \"weather_2022-02-01_10000_N.csv\", nrows = 10000))\n",
        "neutral_list.append(pd.read_csv(path + weather + \"weather_2022-03-01_10000_N.csv\", nrows = 10000))\n",
        "neutral_list.append(pd.read_csv(path + weather + \"weather_2022-04-01_10000_N.csv\", nrows = 10000))\n",
        "neutral_list.append(pd.read_csv(path + weather + \"weather_2022-05-01_10000_N.csv\", nrows = 10000))\n",
        "neutral_list.append(pd.read_csv(path + weather + \"weather_2022-06-01_10000_N.csv\", nrows = 10000))\n",
        "neutral_list.append(pd.read_csv(path + weather + \"weather_2022-07-01_10000_N.csv\", nrows = 10000))\n",
        "neutral_list.append(pd.read_csv(path + weather + \"weather_2022-08-01_10000_N.csv\", nrows = 10000))\n",
        "neutral_list.append(pd.read_csv(path + weather + \"weather_2022-09-01_10000_N.csv\", nrows = 10000))\n",
        "neutral_list.append(pd.read_csv(path + weather + \"weather_2022-10-01_10000_N.csv\", nrows = 10000))\n",
        "neutral_list.append(pd.read_csv(path + weather + \"weather_2022-11-01_10000_N.csv\", nrows = 10000))\n",
        "neutral_list.append(pd.read_csv(path + weather + \"weather_2022-12-01_10000_N.csv\", nrows = 10000))\n",
        "neutral_list.append(pd.read_csv(path + weather + \"weather_2023-01-01_10000_N.csv\", nrows = 10000))"
      ],
      "metadata": {
        "id": "_e6H91dtmQ_g"
      },
      "execution_count": null,
      "outputs": []
    },
    {
      "cell_type": "code",
      "source": [
        "num_total_neg_neutral = 0\n",
        "\n",
        "for csv_file in neutral_list:\n",
        "  csv_file = csv_file.drop(\"Unnamed: 0\", axis = 1)\n",
        "  csv_file = csv_file.drop(\"Date\", axis = 1)\n",
        "  csv_file_clean = csv_file['Tweet'].apply(message_cleaning)\n",
        "  csv_file = csv_file_clean.tolist()\n",
        "  csv_count = tweets_vectorizer.transform(csv_file)\n",
        "  csv_count.toarray()\n",
        "  csv_pred = NB_classifier.predict(csv_count)\n",
        "\n",
        "  #print(csv_pred)\n",
        "\n",
        "  num_neg = 0\n",
        "  count = 0\n",
        "  for i in csv_pred:\n",
        "    if i == 1:\n",
        "      num_neg = num_neg + 1\n",
        "    count = count + 1\n",
        "  #print(count)\n",
        "  #print(\"Num neg: \" + str(num_neg) + \"\\n\")\n",
        "  num_total_neg_neutral = num_total_neg_neutral + num_neg\n",
        "  #print(\"Num total neg: \" + str(num_total_neg_neutral) + \"\\n\")"
      ],
      "metadata": {
        "id": "kt3cjpCIMsw5"
      },
      "execution_count": null,
      "outputs": []
    },
    {
      "cell_type": "markdown",
      "source": [
        "##Controversial"
      ],
      "metadata": {
        "id": "8Ik9WCGxtwaJ"
      }
    },
    {
      "cell_type": "markdown",
      "source": [
        "### Combine Tweet Dataframes"
      ],
      "metadata": {
        "id": "08_gFO1q2bxH"
      }
    },
    {
      "cell_type": "code",
      "source": [
        "path = \"/content/drive/MyDrive/SynopsysTwitter/data/\"\n",
        "\n",
        "def combine_tweets(keyword, since_date):\n",
        "  tweets = []\n",
        "  limit = 5000\n",
        "\n",
        "  dates = since_date.split('-')\n",
        "  year = int(dates[0])\n",
        "  month = int(dates[1])\n",
        "  day = int(dates[2])\n",
        "  since = datetime(year, month, day)\n",
        "\n",
        "  cont = \"/cont/\"\n",
        "\n",
        "  file_name1 = path + cont + (\"_\".join([keyword, since_date, str(limit),]) + \"_C15.csv\")\n",
        "  file_name2 = path + cont + (\"_\".join([keyword, since_date, str(limit),]) + \"_C30.csv\")\n",
        "  file_name = \"_\".join([keyword, since_date, str(10000)]) + \"_C.csv\"\n",
        "  \n",
        "  df_csv_concat = pd.concat([pd.read_csv(file, nrows = 10000) for file in [file_name1, file_name2]], ignore_index=True)\n",
        "  df_csv_concat.to_csv(file_name)"
      ],
      "metadata": {
        "id": "PObpM1jDeF2n"
      },
      "execution_count": null,
      "outputs": []
    },
    {
      "cell_type": "code",
      "source": [
        "cont_kw_list = ['rights', 'global warming', 'trump', 'wage', 'meat']\n",
        "start_date_list = ['2022-08-01', '2022-09-01', '2022-10-01', '2022-11-01', '2022-12-01', '2023-01-01']\n",
        "\n",
        "for kw in cont_kw_list:\n",
        "  for date in start_date_list:\n",
        "    combine_tweets(kw, date)"
      ],
      "metadata": {
        "id": "Abakr20-uBff"
      },
      "execution_count": null,
      "outputs": []
    },
    {
      "cell_type": "markdown",
      "source": [
        "### Read Tweet Dataframes"
      ],
      "metadata": {
        "id": "DKLHvvFE2fWy"
      }
    },
    {
      "cell_type": "code",
      "source": [
        "def read_tweets(keyword, since_date):\n",
        "  tweets = []\n",
        "  limit = 10000\n",
        "\n",
        "  dates = since_date.split('-')\n",
        "  year = int(dates[0])\n",
        "  month = int(dates[1])\n",
        "  day = int(dates[2])\n",
        "  since = datetime(year, month, day)\n",
        "\n",
        "  cont = \"/cont/\"\n",
        "\n",
        "  file_name = \"_\".join([keyword, since_date, str(limit)]) + \"_C.csv\"\n",
        "  \n",
        "  df_csv_concat = \"/content/\" + file_name\n",
        "  df = pd.read_csv(df_csv_concat)\n",
        "  cont_list.append(df)"
      ],
      "metadata": {
        "id": "YR05SuiFl3qp"
      },
      "execution_count": null,
      "outputs": []
    },
    {
      "cell_type": "code",
      "source": [
        "gw = \"gw/\"\n",
        "meat = \"meat/\"\n",
        "rights = \"rights/\"\n",
        "trump = \"trump/\"\n",
        "wage = \"wage/\"\n",
        "\n",
        "cont_list = []\n",
        "\n",
        "cont_list.append(pd.read_csv(path + gw + \"global warming_2022-01-01_10000_C.csv\", nrows = 10000))\n",
        "cont_list.append(pd.read_csv(path + gw + \"global warming_2022-02-01_10000_C.csv\", nrows = 10000))\n",
        "cont_list.append(pd.read_csv(path + gw + \"global warming_2022-03-01_10000_C.csv\", nrows = 10000))\n",
        "cont_list.append(pd.read_csv(path + gw + \"global warming_2022-04-01_10000_C.csv\", nrows = 10000))\n",
        "cont_list.append(pd.read_csv(path + gw + \"global warming_2022-05-01_10000_C.csv\", nrows = 10000))\n",
        "cont_list.append(pd.read_csv(path + gw + \"global warming_2022-06-01_10000_C.csv\", nrows = 10000))\n",
        "cont_list.append(pd.read_csv(path + gw + \"global warming_2022-07-01_10000_C.csv\", nrows = 10000))\n",
        "\n",
        "cont_list.append(pd.read_csv(path + meat + \"meat_2022-01-01_10000_C.csv\", nrows = 10000))\n",
        "cont_list.append(pd.read_csv(path + meat + \"meat_2022-02-01_10000_C.csv\", nrows = 10000))\n",
        "cont_list.append(pd.read_csv(path + meat + \"meat_2022-03-01_10000_C.csv\", nrows = 10000))\n",
        "cont_list.append(pd.read_csv(path + meat + \"meat_2022-04-01_10000_C.csv\", nrows = 10000))\n",
        "cont_list.append(pd.read_csv(path + meat + \"meat_2022-05-01_10000_C.csv\", nrows = 10000))\n",
        "cont_list.append(pd.read_csv(path + meat + \"meat_2022-06-01_10000_C.csv\", nrows = 10000))\n",
        "cont_list.append(pd.read_csv(path + meat + \"meat_2022-07-01_10000_C.csv\", nrows = 10000))\n",
        "\n",
        "cont_list.append(pd.read_csv(path + rights + \"rights_2022-01-01_10000_C.csv\", nrows = 10000))\n",
        "cont_list.append(pd.read_csv(path + rights + \"rights_2022-02-01_10000_C.csv\", nrows = 10000))\n",
        "cont_list.append(pd.read_csv(path + rights + \"rights_2022-03-01_10000_C.csv\", nrows = 10000))\n",
        "cont_list.append(pd.read_csv(path + rights + \"rights_2022-04-01_10000_C.csv\", nrows = 10000))\n",
        "cont_list.append(pd.read_csv(path + rights + \"rights_2022-05-01_10000_C.csv\", nrows = 10000))\n",
        "cont_list.append(pd.read_csv(path + rights + \"rights_2022-06-01_10000_C.csv\", nrows = 10000))\n",
        "cont_list.append(pd.read_csv(path + rights + \"rights_2022-07-01_10000_C.csv\", nrows = 10000))\n",
        "\n",
        "cont_list.append(pd.read_csv(path + trump + \"trump_2022-01-01_10000_C.csv\", nrows = 10000))\n",
        "cont_list.append(pd.read_csv(path + trump + \"trump_2022-02-01_10000_C.csv\", nrows = 10000))\n",
        "cont_list.append(pd.read_csv(path + trump + \"trump_2022-03-01_10000_C.csv\", nrows = 10000))\n",
        "cont_list.append(pd.read_csv(path + trump + \"trump_2022-04-01_10000_C.csv\", nrows = 10000))\n",
        "cont_list.append(pd.read_csv(path + trump + \"trump_2022-05-01_10000_C.csv\", nrows = 10000))\n",
        "cont_list.append(pd.read_csv(path + trump + \"trump_2022-06-01_10000_C.csv\", nrows = 10000))\n",
        "cont_list.append(pd.read_csv(path + trump + \"trump_2022-07-01_10000_C.csv\", nrows = 10000))\n",
        "\n",
        "cont_list.append(pd.read_csv(path + wage + \"wage_2022-01-01_10000_C.csv\", nrows = 10000))\n",
        "cont_list.append(pd.read_csv(path + wage + \"wage_2022-02-01_10000_C.csv\", nrows = 10000))\n",
        "cont_list.append(pd.read_csv(path + wage + \"wage_2022-03-01_10000_C.csv\", nrows = 10000))\n",
        "cont_list.append(pd.read_csv(path + wage + \"wage_2022-04-01_10000_C.csv\", nrows = 10000))\n",
        "cont_list.append(pd.read_csv(path + wage + \"wage_2022-05-01_10000_C.csv\", nrows = 10000))\n",
        "cont_list.append(pd.read_csv(path + wage + \"wage_2022-06-01_10000_C.csv\", nrows = 10000))\n",
        "cont_list.append(pd.read_csv(path + wage + \"wage_2022-07-01_10000_C.csv\", nrows = 10000))\n",
        "\n",
        "cont_kw_list = ['global warming', 'meat', 'rights', 'trump', 'wage']\n",
        "start_date_list = ['2022-08-01', '2022-09-01', '2022-10-01',\n",
        "                   '2022-11-01', '2022-12-01','2023-01-01']\n",
        "\n",
        "for kw in cont_kw_list:\n",
        "  for date in start_date_list:\n",
        "    read_tweets(kw, date)"
      ],
      "metadata": {
        "id": "JB4bzE8TeFh_"
      },
      "execution_count": null,
      "outputs": []
    },
    {
      "cell_type": "code",
      "source": [
        "num_total_neg_cont = 0\n",
        "\n",
        "for csv_file in cont_list:\n",
        "  csv_file = csv_file.drop(\"Unnamed: 0\", axis = 1)\n",
        "  csv_file = csv_file.drop(\"Date\", axis = 1)\n",
        "  csv_file_clean = csv_file['Tweet'].apply(message_cleaning)\n",
        "  csv_file = csv_file_clean.tolist()\n",
        "  csv_count = tweets_vectorizer.transform(csv_file)\n",
        "  csv_count.toarray()\n",
        "  csv_pred = NB_classifier.predict(csv_count)\n",
        "\n",
        "  #print(csv_pred)\n",
        "\n",
        "  num_neg = 0\n",
        "  count = 0\n",
        "  for i in csv_pred:\n",
        "    if i == 1:\n",
        "      num_neg = num_neg + 1\n",
        "    count = count + 1\n",
        "  #print(count)\n",
        "  #print(\"Num neg: \" + str(num_neg) + \"\\n\")\n",
        "  num_total_neg_cont = num_total_neg_cont + num_neg\n",
        "  #print(\"Num total neg: \" + str(num_total_neg_cont) + \"\\n\")"
      ],
      "metadata": {
        "id": "YsoXTdjWtjsc"
      },
      "execution_count": null,
      "outputs": []
    },
    {
      "cell_type": "markdown",
      "source": [
        "# Graphs"
      ],
      "metadata": {
        "id": "WsODVbub8MlX"
      }
    },
    {
      "cell_type": "markdown",
      "source": [
        "## barchart"
      ],
      "metadata": {
        "id": "oKH_Fxy6vWOs"
      }
    },
    {
      "cell_type": "code",
      "source": [
        "sns.set(font_scale=1.5)\n",
        "plt.figure(figsize=(9, 9))\n",
        "\n",
        "x_categories = ['Neutral', 'Controversial']\n",
        "df = pd.DataFrame({'Category': x_categories, 'Count': [num_total_neg_neutral, num_total_neg_cont]})\n",
        "\n",
        "ax = sns.barplot(x='Category', y='Count', data=df)\n",
        "\n",
        "for i in ax.containers:\n",
        "    ax.bar_label(i, size = 16)\n",
        "\n",
        "title = 'Number of Hate Related Tweets for Neutral and Controversial Topics'\n",
        "plt.title(title, size = 20)\n",
        "plt.xlabel('Tweet Category', size = 20)\n",
        "plt.ylabel('Number of Negative Tweets', size = 20)\n",
        "\n",
        "plt.savefig(title, dpi = 500, bbox_inches = 'tight')\n",
        "plt.show()"
      ],
      "metadata": {
        "colab": {
          "base_uri": "https://localhost:8080/",
          "height": 592
        },
        "id": "0cQXomT_yvn2",
        "outputId": "e3ba5b4a-47db-420e-b134-3a0cc905cbf3"
      },
      "execution_count": null,
      "outputs": [
        {
          "output_type": "display_data",
          "data": {
            "text/plain": [
              "<Figure size 648x648 with 1 Axes>"
            ],
            "image/png": "[encoded data removed]"
          },
          "metadata": {}
        }
      ]
    },
    {
      "cell_type": "markdown",
      "source": [
        "## linegraph"
      ],
      "metadata": {
        "id": "QeXGlsVkvY40"
      }
    },
    {
      "cell_type": "markdown",
      "source": [
        "### Data collection"
      ],
      "metadata": {
        "id": "2CUT7AyQiZG8"
      }
    },
    {
      "cell_type": "code",
      "source": [
        "neutral_list_finance = []\n",
        "neutral_list_finance.append(pd.read_csv(path + finance + \"finance_2022-01-01_10000_N.csv\", nrows = 10000))\n",
        "neutral_list_finance.append(pd.read_csv(path + finance + \"finance_2022-02-01_10000_N.csv\", nrows = 10000))\n",
        "neutral_list_finance.append(pd.read_csv(path + finance + \"finance_2022-03-01_10000_N.csv\", nrows = 10000))\n",
        "neutral_list_finance.append(pd.read_csv(path + finance + \"finance_2022-04-01_10000_N.csv\", nrows = 10000))\n",
        "neutral_list_finance.append(pd.read_csv(path + finance + \"finance_2022-05-01_10000_N.csv\", nrows = 10000))\n",
        "neutral_list_finance.append(pd.read_csv(path + finance + \"finance_2022-06-01_10000_N.csv\", nrows = 10000))\n",
        "neutral_list_finance.append(pd.read_csv(path + finance + \"finance_2022-07-01_10000_N.csv\", nrows = 10000))\n",
        "neutral_list_finance.append(pd.read_csv(path + finance + \"finance_2022-08-01_10000_N.csv\", nrows = 10000))\n",
        "neutral_list_finance.append(pd.read_csv(path + finance + \"finance_2022-09-01_10000_N.csv\", nrows = 10000))\n",
        "neutral_list_finance.append(pd.read_csv(path + finance + \"finance_2022-10-01_10000_N.csv\", nrows = 10000))\n",
        "neutral_list_finance.append(pd.read_csv(path + finance + \"finance_2022-11-01_10000_N.csv\", nrows = 10000))\n",
        "neutral_list_finance.append(pd.read_csv(path + finance + \"finance_2022-12-01_10000_N.csv\", nrows = 10000))\n",
        "neutral_list_finance.append(pd.read_csv(path + finance + \"finance_2023-01-01_10000_N.csv\", nrows = 10000))\n",
        "\n",
        "neutral_list_food = []\n",
        "neutral_list_food.append(pd.read_csv(path + food + \"food_2022-01-01_10000_N.csv\", nrows = 10000))\n",
        "neutral_list_food.append(pd.read_csv(path + food + \"food_2022-02-01_10000_N.csv\", nrows = 10000))\n",
        "neutral_list_food.append(pd.read_csv(path + food + \"food_2022-03-01_10000_N.csv\", nrows = 10000))\n",
        "neutral_list_food.append(pd.read_csv(path + food + \"food_2022-04-01_10000_N.csv\", nrows = 10000))\n",
        "neutral_list_food.append(pd.read_csv(path + food + \"food_2022-05-01_10000_N.csv\", nrows = 10000))\n",
        "neutral_list_food.append(pd.read_csv(path + food + \"food_2022-06-01_10000_N.csv\", nrows = 10000))\n",
        "neutral_list_food.append(pd.read_csv(path + food + \"food_2022-07-01_10000_N.csv\", nrows = 10000))\n",
        "neutral_list_food.append(pd.read_csv(path + food + \"food_2022-08-01_10000_N.csv\", nrows = 10000))\n",
        "neutral_list_food.append(pd.read_csv(path + food + \"food_2022-09-01_10000_N.csv\", nrows = 10000))\n",
        "neutral_list_food.append(pd.read_csv(path + food + \"food_2022-10-01_10000_N.csv\", nrows = 10000))\n",
        "neutral_list_food.append(pd.read_csv(path + food + \"food_2022-11-01_10000_N.csv\", nrows = 10000))\n",
        "neutral_list_food.append(pd.read_csv(path + food + \"food_2022-12-01_10000_N.csv\", nrows = 10000))\n",
        "neutral_list_food.append(pd.read_csv(path + food + \"food_2023-01-01_10000_N.csv\", nrows = 10000))\n",
        "\n",
        "neutral_list_humanities= []\n",
        "neutral_list_humanities.append(pd.read_csv(path + humanities + \"humanities_2022-01-01_10000_N.csv\", nrows = 10000))\n",
        "neutral_list_humanities.append(pd.read_csv(path + humanities + \"humanities_2022-02-01_10000_N.csv\", nrows = 10000))\n",
        "neutral_list_humanities.append(pd.read_csv(path + humanities + \"humanities_2022-03-01_10000_N.csv\", nrows = 10000))\n",
        "neutral_list_humanities.append(pd.read_csv(path + humanities + \"humanities_2022-04-01_10000_N.csv\", nrows = 10000))\n",
        "neutral_list_humanities.append(pd.read_csv(path + humanities + \"humanities_2022-05-01_10000_N.csv\", nrows = 10000))\n",
        "neutral_list_humanities.append(pd.read_csv(path + humanities + \"humanities_2022-06-01_10000_N.csv\", nrows = 10000))\n",
        "neutral_list_humanities.append(pd.read_csv(path + humanities + \"humanities_2022-07-01_10000_N.csv\", nrows = 10000))\n",
        "neutral_list_humanities.append(pd.read_csv(path + humanities + \"humanities_2022-08-01_10000_N.csv\", nrows = 10000))\n",
        "neutral_list_humanities.append(pd.read_csv(path + humanities + \"humanities_2022-09-01_10000_N.csv\", nrows = 10000))\n",
        "neutral_list_humanities.append(pd.read_csv(path + humanities + \"humanities_2022-10-01_10000_N.csv\", nrows = 10000))\n",
        "neutral_list_humanities.append(pd.read_csv(path + humanities + \"humanities_2022-11-01_10000_N.csv\", nrows = 10000))\n",
        "neutral_list_humanities.append(pd.read_csv(path + humanities + \"humanities_2022-12-01_10000_N.csv\", nrows = 10000))\n",
        "neutral_list_humanities.append(pd.read_csv(path + humanities + \"humanities_2023-01-01_10000_N.csv\", nrows = 10000))\n",
        "\n",
        "neutral_list_health = []\n",
        "neutral_list_health.append(pd.read_csv(path + health + \"health_2022-01-01_10000_N.csv\", nrows = 10000))\n",
        "neutral_list_health.append(pd.read_csv(path + health + \"health_2022-02-01_10000_N.csv\", nrows = 10000))\n",
        "neutral_list_health.append(pd.read_csv(path + health + \"health_2022-03-01_10000_N.csv\", nrows = 10000))\n",
        "neutral_list_health.append(pd.read_csv(path + health + \"health_2022-04-01_10000_N.csv\", nrows = 10000))\n",
        "neutral_list_health.append(pd.read_csv(path + health + \"health_2022-05-01_10000_N.csv\", nrows = 10000))\n",
        "neutral_list_health.append(pd.read_csv(path + health + \"health_2022-06-01_10000_N.csv\", nrows = 10000))\n",
        "neutral_list_health.append(pd.read_csv(path + health + \"health_2022-07-01_10000_N.csv\", nrows = 10000))\n",
        "neutral_list_health.append(pd.read_csv(path + health + \"health_2022-08-01_10000_N.csv\", nrows = 10000))\n",
        "neutral_list_health.append(pd.read_csv(path + health + \"health_2022-09-01_10000_N.csv\", nrows = 10000))\n",
        "neutral_list_health.append(pd.read_csv(path + health + \"health_2022-10-01_10000_N.csv\", nrows = 10000))\n",
        "neutral_list_health.append(pd.read_csv(path + health + \"health_2022-11-01_10000_N.csv\", nrows = 10000))\n",
        "neutral_list_health.append(pd.read_csv(path + health + \"health_2022-12-01_10000_N.csv\", nrows = 10000))\n",
        "neutral_list_health.append(pd.read_csv(path + health + \"health_2023-01-01_10000_N.csv\", nrows = 10000))\n",
        "\n",
        "neutral_list_weather = []\n",
        "neutral_list_weather.append(pd.read_csv(path + weather + \"weather_2022-01-01_10000_N.csv\", nrows = 10000))\n",
        "neutral_list_weather.append(pd.read_csv(path + weather + \"weather_2022-02-01_10000_N.csv\", nrows = 10000))\n",
        "neutral_list_weather.append(pd.read_csv(path + weather + \"weather_2022-03-01_10000_N.csv\", nrows = 10000))\n",
        "neutral_list_weather.append(pd.read_csv(path + weather + \"weather_2022-04-01_10000_N.csv\", nrows = 10000))\n",
        "neutral_list_weather.append(pd.read_csv(path + weather + \"weather_2022-05-01_10000_N.csv\", nrows = 10000))\n",
        "neutral_list_weather.append(pd.read_csv(path + weather + \"weather_2022-06-01_10000_N.csv\", nrows = 10000))\n",
        "neutral_list_weather.append(pd.read_csv(path + weather + \"weather_2022-07-01_10000_N.csv\", nrows = 10000))\n",
        "neutral_list_weather.append(pd.read_csv(path + weather + \"weather_2022-08-01_10000_N.csv\", nrows = 10000))\n",
        "neutral_list_weather.append(pd.read_csv(path + weather + \"weather_2022-09-01_10000_N.csv\", nrows = 10000))\n",
        "neutral_list_weather.append(pd.read_csv(path + weather + \"weather_2022-10-01_10000_N.csv\", nrows = 10000))\n",
        "neutral_list_weather.append(pd.read_csv(path + weather + \"weather_2022-11-01_10000_N.csv\", nrows = 10000))\n",
        "neutral_list_weather.append(pd.read_csv(path + weather + \"weather_2022-12-01_10000_N.csv\", nrows = 10000))\n",
        "neutral_list_weather.append(pd.read_csv(path + weather + \"weather_2023-01-01_10000_N.csv\", nrows = 10000))\n",
        "\n",
        "overall = \"overall/\"\n",
        "overall_list = []\n",
        "overall_list.append(pd.read_csv(path + overall + \"overall_2022-01-01_10000_O.csv\", nrows = 10000))\n",
        "overall_list.append(pd.read_csv(path + overall + \"overall_2022-02-01_10000_O.csv\", nrows = 10000))\n",
        "overall_list.append(pd.read_csv(path + overall + \"overall_2022-03-01_10000_O.csv\", nrows = 10000))\n",
        "overall_list.append(pd.read_csv(path + overall + \"overall_2022-04-01_10000_O.csv\", nrows = 10000))\n",
        "overall_list.append(pd.read_csv(path + overall + \"overall_2022-05-01_10000_O.csv\", nrows = 10000))\n",
        "overall_list.append(pd.read_csv(path + overall + \"overall_2022-06-01_10000_O.csv\", nrows = 10000))\n",
        "overall_list.append(pd.read_csv(path + overall + \"overall_2022-07-01_10000_O.csv\", nrows = 9579))\n",
        "overall_list.append(pd.read_csv(path + overall + \"overall_2022-08-01_10000_O.csv\", nrows = 10000))\n",
        "overall_list.append(pd.read_csv(path + overall + \"overall_2022-09-01_10000_O.csv\", nrows = 10000))\n",
        "overall_list.append(pd.read_csv(path + overall + \"overall_2022-10-01_10000_O.csv\", nrows = 10000))\n",
        "overall_list.append(pd.read_csv(path + overall + \"overall_2022-11-01_10000_O.csv\", nrows = 10000))\n",
        "overall_list.append(pd.read_csv(path + overall + \"overall_2022-12-01_10000_O.csv\", nrows = 10000))\n",
        "overall_list.append(pd.read_csv(path + overall + \"overall_2023-01-01_10000_O.csv\", nrows = 10000))"
      ],
      "metadata": {
        "id": "Iz1qJkrzpqKR"
      },
      "execution_count": null,
      "outputs": []
    },
    {
      "cell_type": "code",
      "source": [
        "def get_neg_finance():\n",
        "  finance_neg_values = []\n",
        "  for csv_file in neutral_list_finance:\n",
        "    csv_file = csv_file.drop(\"Unnamed: 0\", axis = 1)\n",
        "    csv_file = csv_file.drop(\"Date\", axis = 1)\n",
        "    csv_file_clean = csv_file['Tweet'].apply(message_cleaning)\n",
        "    csv_file = csv_file_clean.tolist()\n",
        "    csv_count = tweets_vectorizer.transform(csv_file)\n",
        "    csv_count.toarray()\n",
        "    csv_pred = NB_classifier.predict(csv_count)\n",
        "\n",
        "    num_neg = 0\n",
        "    count = 0\n",
        "    for i in csv_pred:\n",
        "      if i == 1:\n",
        "        num_neg = num_neg + 1\n",
        "      count = count + 1\n",
        "    #print(count)\n",
        "    #print(\"Finance num neg: \" + str(num_neg) + \"\\n\")\n",
        "    finance_neg_values.append(100 * (float(num_neg)/count))\n",
        "  \n",
        "  print(finance_neg_values)\n",
        "  return finance_neg_values"
      ],
      "metadata": {
        "id": "gCwII25uq1q-"
      },
      "execution_count": null,
      "outputs": []
    },
    {
      "cell_type": "code",
      "source": [
        "def get_neg_food():\n",
        "  food_neg_values = []\n",
        "  for csv_file in neutral_list_food:\n",
        "    csv_file = csv_file.drop(\"Unnamed: 0\", axis = 1)\n",
        "    csv_file = csv_file.drop(\"Date\", axis = 1)\n",
        "    csv_file_clean = csv_file['Tweet'].apply(message_cleaning)\n",
        "    csv_file = csv_file_clean.tolist()\n",
        "    csv_count = tweets_vectorizer.transform(csv_file)\n",
        "    csv_count.toarray()\n",
        "    csv_pred = NB_classifier.predict(csv_count)\n",
        "\n",
        "    num_neg = 0\n",
        "    count = 0\n",
        "    for i in csv_pred:\n",
        "      if i == 1:\n",
        "        num_neg = num_neg + 1\n",
        "      count = count + 1\n",
        "    #print(count)\n",
        "    #print(\"Food num neg: \" + str(num_neg) + \"\\n\")\n",
        "    food_neg_values.append(100 * (float(num_neg)/count))\n",
        "  \n",
        "  print(food_neg_values)\n",
        "  return food_neg_values"
      ],
      "metadata": {
        "id": "KzYD-il73wRe"
      },
      "execution_count": null,
      "outputs": []
    },
    {
      "cell_type": "code",
      "source": [
        "def get_neg_humanities():\n",
        "  humanities_neg_values = []\n",
        "  for csv_file in neutral_list_humanities:\n",
        "    csv_file = csv_file.drop(\"Unnamed: 0\", axis = 1)\n",
        "    csv_file = csv_file.drop(\"Date\", axis = 1)\n",
        "    csv_file_clean = csv_file['Tweet'].apply(message_cleaning)\n",
        "    csv_file = csv_file_clean.tolist()\n",
        "    csv_count = tweets_vectorizer.transform(csv_file)\n",
        "    csv_count.toarray()\n",
        "    csv_pred = NB_classifier.predict(csv_count)\n",
        "\n",
        "    num_neg = 0\n",
        "    count = 0\n",
        "    for i in csv_pred:\n",
        "      if i == 1:\n",
        "        num_neg = num_neg + 1\n",
        "      count = count + 1\n",
        "   # print(count)\n",
        "   # print(\"Human num neg: \" + str(num_neg) + \"\\n\")\n",
        "    humanities_neg_values.append(100 * (float(num_neg)/count))\n",
        "  \n",
        "  print(humanities_neg_values)\n",
        "  return humanities_neg_values"
      ],
      "metadata": {
        "id": "t-oHVojDb2GV"
      },
      "execution_count": null,
      "outputs": []
    },
    {
      "cell_type": "code",
      "source": [
        "def get_neg_health():\n",
        "  health_neg_values = []\n",
        "  for csv_file in neutral_list_health:\n",
        "    csv_file = csv_file.drop(\"Unnamed: 0\", axis = 1)\n",
        "    csv_file = csv_file.drop(\"Date\", axis = 1)\n",
        "    csv_file_clean = csv_file['Tweet'].apply(message_cleaning)\n",
        "    csv_file = csv_file_clean.tolist()\n",
        "    csv_count = tweets_vectorizer.transform(csv_file)\n",
        "    csv_count.toarray()\n",
        "    csv_pred = NB_classifier.predict(csv_count)\n",
        "\n",
        "    num_neg = 0\n",
        "    count = 0\n",
        "    for i in csv_pred:\n",
        "      if i == 1:\n",
        "        num_neg = num_neg + 1\n",
        "      count = count + 1\n",
        "    #print(count)\n",
        "   # print(\"Health num neg: \" + str(num_neg) + \"\\n\")\n",
        "    health_neg_values.append(100 * (float(num_neg)/count))\n",
        "  \n",
        "  print(health_neg_values)\n",
        "  return health_neg_values"
      ],
      "metadata": {
        "id": "ar8uwoK8b9rV"
      },
      "execution_count": null,
      "outputs": []
    },
    {
      "cell_type": "code",
      "source": [
        "def get_neg_weather():\n",
        "  weather_neg_values = []\n",
        "  for csv_file in neutral_list_weather:\n",
        "    csv_file = csv_file.drop(\"Unnamed: 0\", axis = 1)\n",
        "    csv_file = csv_file.drop(\"Date\", axis = 1)\n",
        "    csv_file_clean = csv_file['Tweet'].apply(message_cleaning)\n",
        "    csv_file = csv_file_clean.tolist()\n",
        "    csv_count = tweets_vectorizer.transform(csv_file)\n",
        "    csv_count.toarray()\n",
        "    csv_pred = NB_classifier.predict(csv_count)\n",
        "\n",
        "    num_neg = 0\n",
        "    count = 0\n",
        "    for i in csv_pred:\n",
        "      if i == 1:\n",
        "        num_neg = num_neg + 1\n",
        "      count = count + 1\n",
        "    #print(count)\n",
        "    #print(\"Weather num neg: \" + str(num_neg) + \"\\n\")\n",
        "    weather_neg_values.append(100 * (float(num_neg)/count))\n",
        "  \n",
        "  print(weather_neg_values)\n",
        "  return weather_neg_values"
      ],
      "metadata": {
        "id": "SYcMCV1wcC77"
      },
      "execution_count": null,
      "outputs": []
    },
    {
      "cell_type": "code",
      "source": [
        "def get_neg_overall():\n",
        "  overall_neg_values = []\n",
        "  for csv_file in overall_list:\n",
        "    csv_file = csv_file.drop(\"Unnamed: 0\", axis = 1)\n",
        "    csv_file = csv_file.drop(\"Date\", axis = 1)\n",
        "    csv_file_clean = csv_file['Tweet'].apply(message_cleaning)\n",
        "    csv_file = csv_file_clean.tolist()\n",
        "    csv_count = tweets_vectorizer.transform(csv_file)\n",
        "    csv_count.toarray()\n",
        "    csv_pred = NB_classifier.predict(csv_count)\n",
        "\n",
        "    num_neg = 0\n",
        "    count = 0\n",
        "    for i in csv_pred:\n",
        "      if i == 1:\n",
        "        num_neg = num_neg + 1\n",
        "      count = count + 1\n",
        "    #print(count)\n",
        "    #print(\"Overall num neg: \" + str(num_neg) + \"\\n\")\n",
        "    overall_neg_values.append(100 * (float(num_neg)/count))\n",
        "  \n",
        "  print(overall_neg_values)\n",
        "  return overall_neg_values"
      ],
      "metadata": {
        "id": "tiYXteBoYczM"
      },
      "execution_count": null,
      "outputs": []
    },
    {
      "cell_type": "markdown",
      "source": [
        "### Graph"
      ],
      "metadata": {
        "id": "Fah0y6thieQ7"
      }
    },
    {
      "cell_type": "code",
      "source": [
        "data_df = {\"Months\":['Jan. \\'22', 'Feb. \\'22', 'March \\'22', 'April \\'22',\n",
        "                     'May \\'22', 'June \\'22', 'July \\'22', 'Aug. \\'22', 'Sept. \\'22',\n",
        "                     'Oct. \\'22', 'Nov. \\'22','Dec. \\'22', 'Jan. \\'23'],\n",
        "        \"Neg_finance\":get_neg_finance(),\n",
        "        \"Neg_food\":get_neg_food(),\n",
        "        \"Neg_humanities\":get_neg_humanities(),\n",
        "        \"Neg_health\":get_neg_health(),\n",
        "        \"Neg_weather\":get_neg_weather(),\n",
        "        \"Neg_overall\":get_neg_overall()}\n",
        "\n",
        "Data = pd.DataFrame(data_df)"
      ],
      "metadata": {
        "id": "lLcbcZrV4EPK",
        "colab": {
          "base_uri": "https://localhost:8080/"
        },
        "outputId": "67a8759a-ee23-4082-8496-0f96bd296a1c"
      },
      "execution_count": null,
      "outputs": [
        {
          "output_type": "stream",
          "name": "stdout",
          "text": [
            "[1.97, 3.65, 3.0, 2.4699999999999998, 2.94, 3.16, 2.53, 2.97, 2.5700000000000003, 2.88, 2.26, 3.2399999999999998, 3.85]\n",
            "[0.52, 0.24, 0.27, 0.24, 0.25, 0.27999999999999997, 0.22, 0.27, 0.1, 0.4, 0.21, 0.01, 0.24]\n",
            "[3.51, 3.42, 3.2800000000000002, 2.85, 3.2, 3.73, 3.47, 2.8899999999999997, 4.46, 3.0, 3.92, 4.46, 4.1000000000000005]\n",
            "[0.84, 0.9400000000000001, 0.66, 0.58, 0.18, 0.9199999999999999, 1.01, 0.19, 0.67, 0.76, 0.8, 0.6799999999999999, 0.58]\n",
            "[0.0, 0.0, 0.0, 0.0, 0.0, 0.0, 0.0, 0.0, 0.0, 0.0, 0.0, 0.0, 0.0]\n",
            "[0.02, 0.06999999999999999, 0.09, 0.01, 0.01, 1.1400000000000001, 0.3862616139471761, 0.0, 1.6199999999999999, 0.0, 0.03, 1.27, 0.06999999999999999]\n"
          ]
        }
      ]
    },
    {
      "cell_type": "code",
      "source": [
        "import matplotlib.pyplot as plt\n",
        "import matplotlib.ticker as mtick\n",
        "import seaborn as sns\n",
        "\n",
        "sns.set(font_scale=1.5)\n",
        "plt.figure(figsize=(20, 12))\n",
        "\n",
        "# plt.plot(Data['Months'], Data[['Neg_finance', 'Neg_food', 'Neg_humanities', \n",
        "#                                'Neg_health', 'Neg_weather']], marker = 'o', linewidth = 6,\n",
        "#          markersize = 12, markerfacecolor = 'white', markeredgecolor = 'black')\n",
        "\n",
        "plt.plot(Data['Months'], Data[['Neg_finance']], marker = 'o', linewidth = 6,\n",
        "         markersize = 12, markerfacecolor = '#4ccf4f', markeredgecolor = 'black',\n",
        "         color = '#4ccf4f')\n",
        "\n",
        "plt.plot(Data['Months'], Data[['Neg_food']], marker = 'o', linewidth = 6,\n",
        "         markersize = 12, markerfacecolor = '#f79e72', markeredgecolor = 'black',\n",
        "         color = '#f79e72')\n",
        "\n",
        "plt.plot(Data['Months'], Data[['Neg_humanities']], marker = 'o', linewidth = 6,\n",
        "         markersize = 12, markerfacecolor = '#3e3ead', markeredgecolor = 'white',\n",
        "         color = '#3e3ead')\n",
        "\n",
        "plt.plot(Data['Months'], Data[['Neg_health']], marker = 'o', linewidth = 6,\n",
        "         markersize = 12, markerfacecolor = '#fa8989', markeredgecolor = 'black',\n",
        "         color = '#fa8989')\n",
        "\n",
        "plt.plot(Data['Months'], Data[['Neg_weather']], marker = 'o', linewidth = 6,\n",
        "         markersize = 12, markerfacecolor = '#c55df5', markeredgecolor = 'black',\n",
        "         color = '#c55df5')\n",
        "\n",
        "plt.plot(Data['Months'], Data[['Neg_overall']], marker = 'o', linewidth = 6,\n",
        "         markersize = 12, markerfacecolor = 'black', markeredgecolor = 'white',\n",
        "         linestyle = '--', color = 'black')\n",
        "\n",
        "plt.legend(['Finance', 'Food', 'Humanities', 'Health', 'Weather', 'Overall'],\n",
        "          bbox_to_anchor=(1.01, 1), title='Keywords')\n",
        "\n",
        "plt.axhline(y=4, linestyle = 'dashdot', linewidth = 4, color = 'black')\n",
        "\n",
        "plt.grid(True)\n",
        "\n",
        "title = 'Hate Speech Trend for 5 Neutral Keywords over the Last Year'\n",
        "plt.title(title, size = 26)\n",
        "plt.xlabel('Months', size = 22)\n",
        "\n",
        "# Set y-axis formatter to show '%' character\n",
        "fmt = '%.0f%%'\n",
        "yticks = mtick.FormatStrFormatter(fmt)\n",
        "plt.gca().yaxis.set_major_formatter(yticks)\n",
        "plt.ylabel('Percentage of Negative Tweets', size = 22)\n",
        "\n",
        "plt.savefig(title, dpi = 500, bbox_inches = 'tight')\n",
        "plt.show()"
      ],
      "metadata": {
        "colab": {
          "base_uri": "https://localhost:8080/",
          "height": 761
        },
        "id": "6o-x5NEiQ3Lu",
        "outputId": "ddd87031-9feb-4b98-caba-3fccf1301d3f"
      },
      "execution_count": null,
      "outputs": [
        {
          "output_type": "display_data",
          "data": {
            "text/plain": [
              "<Figure size 1440x864 with 1 Axes>"
            ],
            "image/png": "[encoded data removed]"
          },
          "metadata": {}
        }
      ]
    },
    {
      "cell_type": "code",
      "source": [],
      "metadata": {
        "id": "WxHS6yufalpw"
      },
      "execution_count": null,
      "outputs": []
    }
  ]
}